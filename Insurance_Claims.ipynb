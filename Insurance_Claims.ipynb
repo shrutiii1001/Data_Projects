{
 "cells": [
  {
   "cell_type": "code",
   "execution_count": 1,
   "id": "7ce714eb",
   "metadata": {},
   "outputs": [
    {
     "name": "stderr",
     "output_type": "stream",
     "text": [
      "C:\\Users\\Kaniska Jain\\anaconda3\\Lib\\site-packages\\pandas\\core\\arrays\\masked.py:60: UserWarning: Pandas requires version '1.3.6' or newer of 'bottleneck' (version '1.3.5' currently installed).\n",
      "  from pandas.core import (\n"
     ]
    }
   ],
   "source": [
    "import pandas as pd\n",
    "import numpy as np\n",
    "import matplotlib.pyplot as plt\n",
    "import seaborn as sns\n",
    "import datetime\n",
    "from datetime import datetime\n"
   ]
  },
  {
   "cell_type": "markdown",
   "id": "e7379a4a",
   "metadata": {},
   "source": [
    "### 1. Import claims_data.csv and cust_data.csv which is provided to you and combine the two datasets appropriately to create a 360-degree view of the data. Use the same for the subsequent questions."
   ]
  },
  {
   "cell_type": "code",
   "execution_count": 2,
   "id": "603bd189",
   "metadata": {},
   "outputs": [],
   "source": [
    "cust = pd.read_csv(r\"C:/Users/Kaniska Jain/Documents/DATA SCIENCE/PYTHON/case studies/Case Study 3 - Insurance Claims Case Study/cust_demographics.csv\")\n",
    "claims = pd.read_csv(r'C:/Users/Kaniska Jain/Documents/DATA SCIENCE/PYTHON/case studies/Case Study 3 - Insurance Claims Case Study/claims.csv')"
   ]
  },
  {
   "cell_type": "code",
   "execution_count": 3,
   "id": "17b00844",
   "metadata": {},
   "outputs": [
    {
     "name": "stdout",
     "output_type": "stream",
     "text": [
      "(1085, 6) (1100, 10)\n",
      "<class 'pandas.core.frame.DataFrame'>\n",
      "RangeIndex: 1085 entries, 0 to 1084\n",
      "Data columns (total 6 columns):\n",
      " #   Column       Non-Null Count  Dtype \n",
      "---  ------       --------------  ----- \n",
      " 0   CUST_ID      1085 non-null   int64 \n",
      " 1   gender       1085 non-null   object\n",
      " 2   DateOfBirth  1085 non-null   object\n",
      " 3   State        1085 non-null   object\n",
      " 4   Contact      1085 non-null   object\n",
      " 5   Segment      1085 non-null   object\n",
      "dtypes: int64(1), object(5)\n",
      "memory usage: 51.0+ KB\n",
      "None\n",
      "<class 'pandas.core.frame.DataFrame'>\n",
      "RangeIndex: 1100 entries, 0 to 1099\n",
      "Data columns (total 10 columns):\n",
      " #   Column               Non-Null Count  Dtype  \n",
      "---  ------               --------------  -----  \n",
      " 0   claim_id             1100 non-null   int64  \n",
      " 1   customer_id          1100 non-null   int64  \n",
      " 2   incident_cause       1100 non-null   object \n",
      " 3   claim_date           1100 non-null   object \n",
      " 4   claim_area           1100 non-null   object \n",
      " 5   police_report        1100 non-null   object \n",
      " 6   claim_type           1100 non-null   object \n",
      " 7   claim_amount         1035 non-null   object \n",
      " 8   total_policy_claims  1090 non-null   float64\n",
      " 9   fraudulent           1100 non-null   object \n",
      "dtypes: float64(1), int64(2), object(7)\n",
      "memory usage: 86.1+ KB\n",
      "None\n"
     ]
    }
   ],
   "source": [
    "print(cust.shape, claims.shape)\n",
    "print(cust.info())\n",
    "print(claims.info())"
   ]
  },
  {
   "cell_type": "code",
   "execution_count": 4,
   "id": "ec8ab189",
   "metadata": {},
   "outputs": [
    {
     "data": {
      "text/html": [
       "<div>\n",
       "<style scoped>\n",
       "    .dataframe tbody tr th:only-of-type {\n",
       "        vertical-align: middle;\n",
       "    }\n",
       "\n",
       "    .dataframe tbody tr th {\n",
       "        vertical-align: top;\n",
       "    }\n",
       "\n",
       "    .dataframe thead th {\n",
       "        text-align: right;\n",
       "    }\n",
       "</style>\n",
       "<table border=\"1\" class=\"dataframe\">\n",
       "  <thead>\n",
       "    <tr style=\"text-align: right;\">\n",
       "      <th></th>\n",
       "      <th>CUST_ID</th>\n",
       "      <th>gender</th>\n",
       "      <th>DateOfBirth</th>\n",
       "      <th>State</th>\n",
       "      <th>Contact</th>\n",
       "      <th>Segment</th>\n",
       "    </tr>\n",
       "  </thead>\n",
       "  <tbody>\n",
       "    <tr>\n",
       "      <th>1080</th>\n",
       "      <td>79539873</td>\n",
       "      <td>Female</td>\n",
       "      <td>15-Mar-81</td>\n",
       "      <td>ND</td>\n",
       "      <td>459-425-4319</td>\n",
       "      <td>Platinum</td>\n",
       "    </tr>\n",
       "    <tr>\n",
       "      <th>1081</th>\n",
       "      <td>42364152</td>\n",
       "      <td>Female</td>\n",
       "      <td>07-Jul-96</td>\n",
       "      <td>ID</td>\n",
       "      <td>529-462-1635</td>\n",
       "      <td>Silver</td>\n",
       "    </tr>\n",
       "    <tr>\n",
       "      <th>1082</th>\n",
       "      <td>19888166</td>\n",
       "      <td>Male</td>\n",
       "      <td>11-Apr-90</td>\n",
       "      <td>WI</td>\n",
       "      <td>712-651-9613</td>\n",
       "      <td>Gold</td>\n",
       "    </tr>\n",
       "    <tr>\n",
       "      <th>1083</th>\n",
       "      <td>11256802</td>\n",
       "      <td>Female</td>\n",
       "      <td>22-Oct-64</td>\n",
       "      <td>LA</td>\n",
       "      <td>469-345-5617</td>\n",
       "      <td>Silver</td>\n",
       "    </tr>\n",
       "    <tr>\n",
       "      <th>1084</th>\n",
       "      <td>61575264</td>\n",
       "      <td>Male</td>\n",
       "      <td>12-Jul-95</td>\n",
       "      <td>WY</td>\n",
       "      <td>182-385-1392</td>\n",
       "      <td>Gold</td>\n",
       "    </tr>\n",
       "  </tbody>\n",
       "</table>\n",
       "</div>"
      ],
      "text/plain": [
       "       CUST_ID  gender DateOfBirth State       Contact   Segment\n",
       "1080  79539873  Female   15-Mar-81    ND  459-425-4319  Platinum\n",
       "1081  42364152  Female   07-Jul-96    ID  529-462-1635    Silver\n",
       "1082  19888166    Male   11-Apr-90    WI  712-651-9613      Gold\n",
       "1083  11256802  Female   22-Oct-64    LA  469-345-5617    Silver\n",
       "1084  61575264    Male   12-Jul-95    WY  182-385-1392      Gold"
      ]
     },
     "execution_count": 4,
     "metadata": {},
     "output_type": "execute_result"
    }
   ],
   "source": [
    "cust.tail()"
   ]
  },
  {
   "cell_type": "code",
   "execution_count": 5,
   "id": "91b6c0ec",
   "metadata": {},
   "outputs": [
    {
     "data": {
      "text/html": [
       "<div>\n",
       "<style scoped>\n",
       "    .dataframe tbody tr th:only-of-type {\n",
       "        vertical-align: middle;\n",
       "    }\n",
       "\n",
       "    .dataframe tbody tr th {\n",
       "        vertical-align: top;\n",
       "    }\n",
       "\n",
       "    .dataframe thead th {\n",
       "        text-align: right;\n",
       "    }\n",
       "</style>\n",
       "<table border=\"1\" class=\"dataframe\">\n",
       "  <thead>\n",
       "    <tr style=\"text-align: right;\">\n",
       "      <th></th>\n",
       "      <th>claim_id</th>\n",
       "      <th>customer_id</th>\n",
       "      <th>incident_cause</th>\n",
       "      <th>claim_date</th>\n",
       "      <th>claim_area</th>\n",
       "      <th>police_report</th>\n",
       "      <th>claim_type</th>\n",
       "      <th>claim_amount</th>\n",
       "      <th>total_policy_claims</th>\n",
       "      <th>fraudulent</th>\n",
       "    </tr>\n",
       "  </thead>\n",
       "  <tbody>\n",
       "    <tr>\n",
       "      <th>0</th>\n",
       "      <td>54004764</td>\n",
       "      <td>21868593</td>\n",
       "      <td>Driver error</td>\n",
       "      <td>11/27/2017</td>\n",
       "      <td>Auto</td>\n",
       "      <td>No</td>\n",
       "      <td>Material only</td>\n",
       "      <td>$2980</td>\n",
       "      <td>1.0</td>\n",
       "      <td>No</td>\n",
       "    </tr>\n",
       "    <tr>\n",
       "      <th>1</th>\n",
       "      <td>33985796</td>\n",
       "      <td>75740424</td>\n",
       "      <td>Crime</td>\n",
       "      <td>10/03/2018</td>\n",
       "      <td>Home</td>\n",
       "      <td>Unknown</td>\n",
       "      <td>Material only</td>\n",
       "      <td>$2980</td>\n",
       "      <td>3.0</td>\n",
       "      <td>No</td>\n",
       "    </tr>\n",
       "    <tr>\n",
       "      <th>2</th>\n",
       "      <td>53522022</td>\n",
       "      <td>30308357</td>\n",
       "      <td>Other driver error</td>\n",
       "      <td>02/02/2018</td>\n",
       "      <td>Auto</td>\n",
       "      <td>No</td>\n",
       "      <td>Material only</td>\n",
       "      <td>$3369.5</td>\n",
       "      <td>1.0</td>\n",
       "      <td>Yes</td>\n",
       "    </tr>\n",
       "    <tr>\n",
       "      <th>3</th>\n",
       "      <td>13015401</td>\n",
       "      <td>47830476</td>\n",
       "      <td>Natural causes</td>\n",
       "      <td>06/17/2018</td>\n",
       "      <td>Auto</td>\n",
       "      <td>No</td>\n",
       "      <td>Material only</td>\n",
       "      <td>$1680</td>\n",
       "      <td>1.0</td>\n",
       "      <td>No</td>\n",
       "    </tr>\n",
       "    <tr>\n",
       "      <th>4</th>\n",
       "      <td>22890252</td>\n",
       "      <td>19269962</td>\n",
       "      <td>Crime</td>\n",
       "      <td>01/13/2018</td>\n",
       "      <td>Auto</td>\n",
       "      <td>No</td>\n",
       "      <td>Material only</td>\n",
       "      <td>$2680</td>\n",
       "      <td>1.0</td>\n",
       "      <td>No</td>\n",
       "    </tr>\n",
       "  </tbody>\n",
       "</table>\n",
       "</div>"
      ],
      "text/plain": [
       "   claim_id  customer_id      incident_cause  claim_date claim_area  \\\n",
       "0  54004764     21868593        Driver error  11/27/2017       Auto   \n",
       "1  33985796     75740424               Crime  10/03/2018       Home   \n",
       "2  53522022     30308357  Other driver error  02/02/2018       Auto   \n",
       "3  13015401     47830476      Natural causes  06/17/2018       Auto   \n",
       "4  22890252     19269962               Crime  01/13/2018       Auto   \n",
       "\n",
       "  police_report     claim_type claim_amount  total_policy_claims fraudulent  \n",
       "0            No  Material only        $2980                  1.0         No  \n",
       "1       Unknown  Material only        $2980                  3.0         No  \n",
       "2            No  Material only      $3369.5                  1.0        Yes  \n",
       "3            No  Material only        $1680                  1.0         No  \n",
       "4            No  Material only        $2680                  1.0         No  "
      ]
     },
     "execution_count": 5,
     "metadata": {},
     "output_type": "execute_result"
    }
   ],
   "source": [
    "claims.head()"
   ]
  },
  {
   "cell_type": "code",
   "execution_count": 6,
   "id": "5f691a37",
   "metadata": {},
   "outputs": [
    {
     "data": {
      "text/html": [
       "<div>\n",
       "<style scoped>\n",
       "    .dataframe tbody tr th:only-of-type {\n",
       "        vertical-align: middle;\n",
       "    }\n",
       "\n",
       "    .dataframe tbody tr th {\n",
       "        vertical-align: top;\n",
       "    }\n",
       "\n",
       "    .dataframe thead th {\n",
       "        text-align: right;\n",
       "    }\n",
       "</style>\n",
       "<table border=\"1\" class=\"dataframe\">\n",
       "  <thead>\n",
       "    <tr style=\"text-align: right;\">\n",
       "      <th></th>\n",
       "      <th>CUST_ID</th>\n",
       "      <th>gender</th>\n",
       "      <th>DateOfBirth</th>\n",
       "      <th>State</th>\n",
       "      <th>Contact</th>\n",
       "      <th>Segment</th>\n",
       "      <th>claim_id</th>\n",
       "      <th>customer_id</th>\n",
       "      <th>incident_cause</th>\n",
       "      <th>claim_date</th>\n",
       "      <th>claim_area</th>\n",
       "      <th>police_report</th>\n",
       "      <th>claim_type</th>\n",
       "      <th>claim_amount</th>\n",
       "      <th>total_policy_claims</th>\n",
       "      <th>fraudulent</th>\n",
       "    </tr>\n",
       "  </thead>\n",
       "  <tbody>\n",
       "    <tr>\n",
       "      <th>0</th>\n",
       "      <td>21868593</td>\n",
       "      <td>Female</td>\n",
       "      <td>12-Jan-79</td>\n",
       "      <td>VT</td>\n",
       "      <td>789-916-8172</td>\n",
       "      <td>Platinum</td>\n",
       "      <td>54004764</td>\n",
       "      <td>21868593</td>\n",
       "      <td>Driver error</td>\n",
       "      <td>11/27/2017</td>\n",
       "      <td>Auto</td>\n",
       "      <td>No</td>\n",
       "      <td>Material only</td>\n",
       "      <td>$2980</td>\n",
       "      <td>1.0</td>\n",
       "      <td>No</td>\n",
       "    </tr>\n",
       "    <tr>\n",
       "      <th>1</th>\n",
       "      <td>75740424</td>\n",
       "      <td>Female</td>\n",
       "      <td>13-Jan-70</td>\n",
       "      <td>ME</td>\n",
       "      <td>265-543-1264</td>\n",
       "      <td>Silver</td>\n",
       "      <td>33985796</td>\n",
       "      <td>75740424</td>\n",
       "      <td>Crime</td>\n",
       "      <td>10/03/2018</td>\n",
       "      <td>Home</td>\n",
       "      <td>Unknown</td>\n",
       "      <td>Material only</td>\n",
       "      <td>$2980</td>\n",
       "      <td>3.0</td>\n",
       "      <td>No</td>\n",
       "    </tr>\n",
       "    <tr>\n",
       "      <th>2</th>\n",
       "      <td>30308357</td>\n",
       "      <td>Female</td>\n",
       "      <td>11-Mar-84</td>\n",
       "      <td>TN</td>\n",
       "      <td>798-631-4758</td>\n",
       "      <td>Silver</td>\n",
       "      <td>53522022</td>\n",
       "      <td>30308357</td>\n",
       "      <td>Other driver error</td>\n",
       "      <td>02/02/2018</td>\n",
       "      <td>Auto</td>\n",
       "      <td>No</td>\n",
       "      <td>Material only</td>\n",
       "      <td>$3369.5</td>\n",
       "      <td>1.0</td>\n",
       "      <td>Yes</td>\n",
       "    </tr>\n",
       "    <tr>\n",
       "      <th>3</th>\n",
       "      <td>30308357</td>\n",
       "      <td>Female</td>\n",
       "      <td>11-Mar-84</td>\n",
       "      <td>TN</td>\n",
       "      <td>798-631-4758</td>\n",
       "      <td>Silver</td>\n",
       "      <td>63017412</td>\n",
       "      <td>30308357</td>\n",
       "      <td>Driver error</td>\n",
       "      <td>04/04/2018</td>\n",
       "      <td>Auto</td>\n",
       "      <td>No</td>\n",
       "      <td>Material only</td>\n",
       "      <td>$1950</td>\n",
       "      <td>6.0</td>\n",
       "      <td>No</td>\n",
       "    </tr>\n",
       "    <tr>\n",
       "      <th>4</th>\n",
       "      <td>47830476</td>\n",
       "      <td>Female</td>\n",
       "      <td>01-May-86</td>\n",
       "      <td>MA</td>\n",
       "      <td>413-187-7945</td>\n",
       "      <td>Silver</td>\n",
       "      <td>13015401</td>\n",
       "      <td>47830476</td>\n",
       "      <td>Natural causes</td>\n",
       "      <td>06/17/2018</td>\n",
       "      <td>Auto</td>\n",
       "      <td>No</td>\n",
       "      <td>Material only</td>\n",
       "      <td>$1680</td>\n",
       "      <td>1.0</td>\n",
       "      <td>No</td>\n",
       "    </tr>\n",
       "    <tr>\n",
       "      <th>...</th>\n",
       "      <td>...</td>\n",
       "      <td>...</td>\n",
       "      <td>...</td>\n",
       "      <td>...</td>\n",
       "      <td>...</td>\n",
       "      <td>...</td>\n",
       "      <td>...</td>\n",
       "      <td>...</td>\n",
       "      <td>...</td>\n",
       "      <td>...</td>\n",
       "      <td>...</td>\n",
       "      <td>...</td>\n",
       "      <td>...</td>\n",
       "      <td>...</td>\n",
       "      <td>...</td>\n",
       "      <td>...</td>\n",
       "    </tr>\n",
       "    <tr>\n",
       "      <th>1080</th>\n",
       "      <td>79539873</td>\n",
       "      <td>Female</td>\n",
       "      <td>15-Mar-81</td>\n",
       "      <td>ND</td>\n",
       "      <td>459-425-4319</td>\n",
       "      <td>Platinum</td>\n",
       "      <td>62020796</td>\n",
       "      <td>79539873</td>\n",
       "      <td>Other driver error</td>\n",
       "      <td>09/06/2018</td>\n",
       "      <td>Auto</td>\n",
       "      <td>Yes</td>\n",
       "      <td>Material only</td>\n",
       "      <td>$1770</td>\n",
       "      <td>1.0</td>\n",
       "      <td>No</td>\n",
       "    </tr>\n",
       "    <tr>\n",
       "      <th>1081</th>\n",
       "      <td>42364152</td>\n",
       "      <td>Female</td>\n",
       "      <td>07-Jul-96</td>\n",
       "      <td>ID</td>\n",
       "      <td>529-462-1635</td>\n",
       "      <td>Silver</td>\n",
       "      <td>63269067</td>\n",
       "      <td>42364152</td>\n",
       "      <td>Other causes</td>\n",
       "      <td>05/09/2017</td>\n",
       "      <td>Home</td>\n",
       "      <td>No</td>\n",
       "      <td>Material only</td>\n",
       "      <td>$2800</td>\n",
       "      <td>1.0</td>\n",
       "      <td>No</td>\n",
       "    </tr>\n",
       "    <tr>\n",
       "      <th>1082</th>\n",
       "      <td>19888166</td>\n",
       "      <td>Male</td>\n",
       "      <td>11-Apr-90</td>\n",
       "      <td>WI</td>\n",
       "      <td>712-651-9613</td>\n",
       "      <td>Gold</td>\n",
       "      <td>22690595</td>\n",
       "      <td>19888166</td>\n",
       "      <td>Other driver error</td>\n",
       "      <td>05/15/2017</td>\n",
       "      <td>Auto</td>\n",
       "      <td>Yes</td>\n",
       "      <td>Injury only</td>\n",
       "      <td>$33080</td>\n",
       "      <td>2.0</td>\n",
       "      <td>No</td>\n",
       "    </tr>\n",
       "    <tr>\n",
       "      <th>1083</th>\n",
       "      <td>11256802</td>\n",
       "      <td>Female</td>\n",
       "      <td>22-Oct-64</td>\n",
       "      <td>LA</td>\n",
       "      <td>469-345-5617</td>\n",
       "      <td>Silver</td>\n",
       "      <td>12376894</td>\n",
       "      <td>11256802</td>\n",
       "      <td>Other driver error</td>\n",
       "      <td>04/18/2017</td>\n",
       "      <td>Auto</td>\n",
       "      <td>No</td>\n",
       "      <td>Material only</td>\n",
       "      <td>$2840</td>\n",
       "      <td>4.0</td>\n",
       "      <td>No</td>\n",
       "    </tr>\n",
       "    <tr>\n",
       "      <th>1084</th>\n",
       "      <td>61575264</td>\n",
       "      <td>Male</td>\n",
       "      <td>12-Jul-95</td>\n",
       "      <td>WY</td>\n",
       "      <td>182-385-1392</td>\n",
       "      <td>Gold</td>\n",
       "      <td>63226031</td>\n",
       "      <td>61575264</td>\n",
       "      <td>Natural causes</td>\n",
       "      <td>03/16/2017</td>\n",
       "      <td>Auto</td>\n",
       "      <td>No</td>\n",
       "      <td>Material only</td>\n",
       "      <td>$1490</td>\n",
       "      <td>1.0</td>\n",
       "      <td>No</td>\n",
       "    </tr>\n",
       "  </tbody>\n",
       "</table>\n",
       "<p>1085 rows × 16 columns</p>\n",
       "</div>"
      ],
      "text/plain": [
       "       CUST_ID  gender DateOfBirth State       Contact   Segment  claim_id  \\\n",
       "0     21868593  Female   12-Jan-79    VT  789-916-8172  Platinum  54004764   \n",
       "1     75740424  Female   13-Jan-70    ME  265-543-1264    Silver  33985796   \n",
       "2     30308357  Female   11-Mar-84    TN  798-631-4758    Silver  53522022   \n",
       "3     30308357  Female   11-Mar-84    TN  798-631-4758    Silver  63017412   \n",
       "4     47830476  Female   01-May-86    MA  413-187-7945    Silver  13015401   \n",
       "...        ...     ...         ...   ...           ...       ...       ...   \n",
       "1080  79539873  Female   15-Mar-81    ND  459-425-4319  Platinum  62020796   \n",
       "1081  42364152  Female   07-Jul-96    ID  529-462-1635    Silver  63269067   \n",
       "1082  19888166    Male   11-Apr-90    WI  712-651-9613      Gold  22690595   \n",
       "1083  11256802  Female   22-Oct-64    LA  469-345-5617    Silver  12376894   \n",
       "1084  61575264    Male   12-Jul-95    WY  182-385-1392      Gold  63226031   \n",
       "\n",
       "      customer_id      incident_cause  claim_date claim_area police_report  \\\n",
       "0        21868593        Driver error  11/27/2017       Auto            No   \n",
       "1        75740424               Crime  10/03/2018       Home       Unknown   \n",
       "2        30308357  Other driver error  02/02/2018       Auto            No   \n",
       "3        30308357        Driver error  04/04/2018       Auto            No   \n",
       "4        47830476      Natural causes  06/17/2018       Auto            No   \n",
       "...           ...                 ...         ...        ...           ...   \n",
       "1080     79539873  Other driver error  09/06/2018       Auto           Yes   \n",
       "1081     42364152        Other causes  05/09/2017       Home            No   \n",
       "1082     19888166  Other driver error  05/15/2017       Auto           Yes   \n",
       "1083     11256802  Other driver error  04/18/2017       Auto            No   \n",
       "1084     61575264      Natural causes  03/16/2017       Auto            No   \n",
       "\n",
       "         claim_type claim_amount  total_policy_claims fraudulent  \n",
       "0     Material only        $2980                  1.0         No  \n",
       "1     Material only        $2980                  3.0         No  \n",
       "2     Material only      $3369.5                  1.0        Yes  \n",
       "3     Material only        $1950                  6.0         No  \n",
       "4     Material only        $1680                  1.0         No  \n",
       "...             ...          ...                  ...        ...  \n",
       "1080  Material only        $1770                  1.0         No  \n",
       "1081  Material only        $2800                  1.0         No  \n",
       "1082    Injury only       $33080                  2.0         No  \n",
       "1083  Material only        $2840                  4.0         No  \n",
       "1084  Material only        $1490                  1.0         No  \n",
       "\n",
       "[1085 rows x 16 columns]"
      ]
     },
     "execution_count": 6,
     "metadata": {},
     "output_type": "execute_result"
    }
   ],
   "source": [
    "cust_claims = pd.merge(left=cust,right=claims,left_on='CUST_ID',right_on='customer_id')\n",
    "cust_claims"
   ]
  },
  {
   "cell_type": "markdown",
   "id": "0795be94",
   "metadata": {},
   "source": [
    "### 2. Perform a data audit for the datatypes and find out if there are any mismatch within the current datatypes of the columns and their business significance."
   ]
  },
  {
   "cell_type": "code",
   "execution_count": 7,
   "id": "e22e935f",
   "metadata": {},
   "outputs": [
    {
     "data": {
      "text/plain": [
       "CUST_ID                  int64\n",
       "gender                  object\n",
       "DateOfBirth             object\n",
       "State                   object\n",
       "Contact                 object\n",
       "Segment                 object\n",
       "claim_id                 int64\n",
       "customer_id              int64\n",
       "incident_cause          object\n",
       "claim_date              object\n",
       "claim_area              object\n",
       "police_report           object\n",
       "claim_type              object\n",
       "claim_amount            object\n",
       "total_policy_claims    float64\n",
       "fraudulent              object\n",
       "dtype: object"
      ]
     },
     "execution_count": 7,
     "metadata": {},
     "output_type": "execute_result"
    }
   ],
   "source": [
    "cust_claims.dtypes"
   ]
  },
  {
   "cell_type": "code",
   "execution_count": 8,
   "id": "208b0ce9",
   "metadata": {},
   "outputs": [],
   "source": [
    "cust_claims.DateOfBirth = pd.to_datetime(cust_claims.DateOfBirth,format='%d-%b-%y')\n",
    "cust_claims.claim_date = pd.to_datetime(cust_claims.claim_date,format='%m/%d/%Y')"
   ]
  },
  {
   "cell_type": "code",
   "execution_count": 9,
   "id": "7a2b4ce7",
   "metadata": {},
   "outputs": [
    {
     "data": {
      "text/plain": [
       "CUST_ID                         int64\n",
       "gender                         object\n",
       "DateOfBirth            datetime64[ns]\n",
       "State                          object\n",
       "Contact                        object\n",
       "Segment                        object\n",
       "claim_id                        int64\n",
       "customer_id                     int64\n",
       "incident_cause                 object\n",
       "claim_date             datetime64[ns]\n",
       "claim_area                     object\n",
       "police_report                  object\n",
       "claim_type                     object\n",
       "claim_amount                   object\n",
       "total_policy_claims           float64\n",
       "fraudulent                     object\n",
       "dtype: object"
      ]
     },
     "execution_count": 9,
     "metadata": {},
     "output_type": "execute_result"
    }
   ],
   "source": [
    "cust_claims.dtypes"
   ]
  },
  {
   "cell_type": "code",
   "execution_count": 10,
   "id": "276cd042",
   "metadata": {},
   "outputs": [
    {
     "name": "stdout",
     "output_type": "stream",
     "text": [
      "The histogram shows us clearly that there are some incorrectly formated dates\n"
     ]
    },
    {
     "data": {
      "image/png": "[encoded data removed]",
      "text/plain": [
       "<Figure size 640x480 with 1 Axes>"
      ]
     },
     "metadata": {},
     "output_type": "display_data"
    }
   ],
   "source": [
    "cust_claims.DateOfBirth.dt.year.plot(kind='hist')\n",
    "print(\"The histogram shows us clearly that there are some incorrectly formated dates\")\n",
    "plt.show()"
   ]
  },
  {
   "cell_type": "code",
   "execution_count": 11,
   "id": "eb519af0",
   "metadata": {},
   "outputs": [
    {
     "name": "stderr",
     "output_type": "stream",
     "text": [
      "C:\\Users\\Kaniska Jain\\AppData\\Local\\Temp\\ipykernel_32048\\2535426137.py:2: SettingWithCopyWarning: \n",
      "A value is trying to be set on a copy of a slice from a DataFrame\n",
      "\n",
      "See the caveats in the documentation: https://pandas.pydata.org/pandas-docs/stable/user_guide/indexing.html#returning-a-view-versus-a-copy\n",
      "  cust_claims.DateOfBirth.iloc[change_ind] = (cust_claims.DateOfBirth.iloc[change_ind]\\\n"
     ]
    },
    {
     "data": {
      "image/png": "[encoded data removed]",
      "text/plain": [
       "<Figure size 640x480 with 1 Axes>"
      ]
     },
     "metadata": {},
     "output_type": "display_data"
    },
    {
     "name": "stdout",
     "output_type": "stream",
     "text": [
      "The outliers have been treated\n"
     ]
    }
   ],
   "source": [
    "change_ind = cust_claims[(cust_claims.DateOfBirth.dt.year>2030)].index\n",
    "cust_claims.DateOfBirth.iloc[change_ind] = (cust_claims.DateOfBirth.iloc[change_ind]\\\n",
    "                                            - pd.DateOffset(years=100))\n",
    "cust_claims.DateOfBirth.dt.year.plot(kind='hist')\n",
    "plt.show()\n",
    "print(\"The outliers have been treated\")"
   ]
  },
  {
   "cell_type": "markdown",
   "id": "f72f8220",
   "metadata": {},
   "source": [
    "### 3. Convert the column claim_amount to numeric. Use the appropriate modules/attributes to remove the $ sign."
   ]
  },
  {
   "cell_type": "code",
   "execution_count": 12,
   "id": "e5fdb2ac",
   "metadata": {},
   "outputs": [
    {
     "data": {
      "text/plain": [
       "0        2980.0\n",
       "1        2980.0\n",
       "2        3369.5\n",
       "3        1950.0\n",
       "4        1680.0\n",
       "         ...   \n",
       "1080     1770.0\n",
       "1081     2800.0\n",
       "1082    33080.0\n",
       "1083     2840.0\n",
       "1084     1490.0\n",
       "Name: claim_amount, Length: 1085, dtype: float64"
      ]
     },
     "execution_count": 12,
     "metadata": {},
     "output_type": "execute_result"
    }
   ],
   "source": [
    "cust_claims.claim_amount = cust_claims.claim_amount.str.replace('$',\"\").astype(float)\n",
    "cust_claims.claim_amount"
   ]
  },
  {
   "cell_type": "markdown",
   "id": "68746430",
   "metadata": {},
   "source": [
    "### 4. Of all the injury claims, some of them have gone unreported with the police. Create an alert flag (1,0) for all such claims."
   ]
  },
  {
   "cell_type": "code",
   "execution_count": 13,
   "id": "3b0aeb2f",
   "metadata": {},
   "outputs": [
    {
     "data": {
      "text/html": [
       "<div>\n",
       "<style scoped>\n",
       "    .dataframe tbody tr th:only-of-type {\n",
       "        vertical-align: middle;\n",
       "    }\n",
       "\n",
       "    .dataframe tbody tr th {\n",
       "        vertical-align: top;\n",
       "    }\n",
       "\n",
       "    .dataframe thead th {\n",
       "        text-align: right;\n",
       "    }\n",
       "</style>\n",
       "<table border=\"1\" class=\"dataframe\">\n",
       "  <thead>\n",
       "    <tr style=\"text-align: right;\">\n",
       "      <th></th>\n",
       "      <th>CUST_ID</th>\n",
       "      <th>gender</th>\n",
       "      <th>DateOfBirth</th>\n",
       "      <th>State</th>\n",
       "      <th>Contact</th>\n",
       "      <th>Segment</th>\n",
       "      <th>claim_id</th>\n",
       "      <th>customer_id</th>\n",
       "      <th>incident_cause</th>\n",
       "      <th>claim_date</th>\n",
       "      <th>claim_area</th>\n",
       "      <th>police_report</th>\n",
       "      <th>claim_type</th>\n",
       "      <th>claim_amount</th>\n",
       "      <th>total_policy_claims</th>\n",
       "      <th>fraudulent</th>\n",
       "      <th>police_rep_flag</th>\n",
       "    </tr>\n",
       "  </thead>\n",
       "  <tbody>\n",
       "    <tr>\n",
       "      <th>0</th>\n",
       "      <td>21868593</td>\n",
       "      <td>Female</td>\n",
       "      <td>1979-01-12</td>\n",
       "      <td>VT</td>\n",
       "      <td>789-916-8172</td>\n",
       "      <td>Platinum</td>\n",
       "      <td>54004764</td>\n",
       "      <td>21868593</td>\n",
       "      <td>Driver error</td>\n",
       "      <td>2017-11-27</td>\n",
       "      <td>Auto</td>\n",
       "      <td>No</td>\n",
       "      <td>Material only</td>\n",
       "      <td>2980.0</td>\n",
       "      <td>1.0</td>\n",
       "      <td>No</td>\n",
       "      <td>0</td>\n",
       "    </tr>\n",
       "    <tr>\n",
       "      <th>1</th>\n",
       "      <td>75740424</td>\n",
       "      <td>Female</td>\n",
       "      <td>1970-01-13</td>\n",
       "      <td>ME</td>\n",
       "      <td>265-543-1264</td>\n",
       "      <td>Silver</td>\n",
       "      <td>33985796</td>\n",
       "      <td>75740424</td>\n",
       "      <td>Crime</td>\n",
       "      <td>2018-10-03</td>\n",
       "      <td>Home</td>\n",
       "      <td>Unknown</td>\n",
       "      <td>Material only</td>\n",
       "      <td>2980.0</td>\n",
       "      <td>3.0</td>\n",
       "      <td>No</td>\n",
       "      <td>0</td>\n",
       "    </tr>\n",
       "    <tr>\n",
       "      <th>2</th>\n",
       "      <td>30308357</td>\n",
       "      <td>Female</td>\n",
       "      <td>1984-03-11</td>\n",
       "      <td>TN</td>\n",
       "      <td>798-631-4758</td>\n",
       "      <td>Silver</td>\n",
       "      <td>53522022</td>\n",
       "      <td>30308357</td>\n",
       "      <td>Other driver error</td>\n",
       "      <td>2018-02-02</td>\n",
       "      <td>Auto</td>\n",
       "      <td>No</td>\n",
       "      <td>Material only</td>\n",
       "      <td>3369.5</td>\n",
       "      <td>1.0</td>\n",
       "      <td>Yes</td>\n",
       "      <td>0</td>\n",
       "    </tr>\n",
       "    <tr>\n",
       "      <th>3</th>\n",
       "      <td>30308357</td>\n",
       "      <td>Female</td>\n",
       "      <td>1984-03-11</td>\n",
       "      <td>TN</td>\n",
       "      <td>798-631-4758</td>\n",
       "      <td>Silver</td>\n",
       "      <td>63017412</td>\n",
       "      <td>30308357</td>\n",
       "      <td>Driver error</td>\n",
       "      <td>2018-04-04</td>\n",
       "      <td>Auto</td>\n",
       "      <td>No</td>\n",
       "      <td>Material only</td>\n",
       "      <td>1950.0</td>\n",
       "      <td>6.0</td>\n",
       "      <td>No</td>\n",
       "      <td>0</td>\n",
       "    </tr>\n",
       "    <tr>\n",
       "      <th>4</th>\n",
       "      <td>47830476</td>\n",
       "      <td>Female</td>\n",
       "      <td>1986-05-01</td>\n",
       "      <td>MA</td>\n",
       "      <td>413-187-7945</td>\n",
       "      <td>Silver</td>\n",
       "      <td>13015401</td>\n",
       "      <td>47830476</td>\n",
       "      <td>Natural causes</td>\n",
       "      <td>2018-06-17</td>\n",
       "      <td>Auto</td>\n",
       "      <td>No</td>\n",
       "      <td>Material only</td>\n",
       "      <td>1680.0</td>\n",
       "      <td>1.0</td>\n",
       "      <td>No</td>\n",
       "      <td>0</td>\n",
       "    </tr>\n",
       "    <tr>\n",
       "      <th>...</th>\n",
       "      <td>...</td>\n",
       "      <td>...</td>\n",
       "      <td>...</td>\n",
       "      <td>...</td>\n",
       "      <td>...</td>\n",
       "      <td>...</td>\n",
       "      <td>...</td>\n",
       "      <td>...</td>\n",
       "      <td>...</td>\n",
       "      <td>...</td>\n",
       "      <td>...</td>\n",
       "      <td>...</td>\n",
       "      <td>...</td>\n",
       "      <td>...</td>\n",
       "      <td>...</td>\n",
       "      <td>...</td>\n",
       "      <td>...</td>\n",
       "    </tr>\n",
       "    <tr>\n",
       "      <th>1080</th>\n",
       "      <td>79539873</td>\n",
       "      <td>Female</td>\n",
       "      <td>1981-03-15</td>\n",
       "      <td>ND</td>\n",
       "      <td>459-425-4319</td>\n",
       "      <td>Platinum</td>\n",
       "      <td>62020796</td>\n",
       "      <td>79539873</td>\n",
       "      <td>Other driver error</td>\n",
       "      <td>2018-09-06</td>\n",
       "      <td>Auto</td>\n",
       "      <td>Yes</td>\n",
       "      <td>Material only</td>\n",
       "      <td>1770.0</td>\n",
       "      <td>1.0</td>\n",
       "      <td>No</td>\n",
       "      <td>1</td>\n",
       "    </tr>\n",
       "    <tr>\n",
       "      <th>1081</th>\n",
       "      <td>42364152</td>\n",
       "      <td>Female</td>\n",
       "      <td>1996-07-07</td>\n",
       "      <td>ID</td>\n",
       "      <td>529-462-1635</td>\n",
       "      <td>Silver</td>\n",
       "      <td>63269067</td>\n",
       "      <td>42364152</td>\n",
       "      <td>Other causes</td>\n",
       "      <td>2017-05-09</td>\n",
       "      <td>Home</td>\n",
       "      <td>No</td>\n",
       "      <td>Material only</td>\n",
       "      <td>2800.0</td>\n",
       "      <td>1.0</td>\n",
       "      <td>No</td>\n",
       "      <td>0</td>\n",
       "    </tr>\n",
       "    <tr>\n",
       "      <th>1082</th>\n",
       "      <td>19888166</td>\n",
       "      <td>Male</td>\n",
       "      <td>1990-04-11</td>\n",
       "      <td>WI</td>\n",
       "      <td>712-651-9613</td>\n",
       "      <td>Gold</td>\n",
       "      <td>22690595</td>\n",
       "      <td>19888166</td>\n",
       "      <td>Other driver error</td>\n",
       "      <td>2017-05-15</td>\n",
       "      <td>Auto</td>\n",
       "      <td>Yes</td>\n",
       "      <td>Injury only</td>\n",
       "      <td>33080.0</td>\n",
       "      <td>2.0</td>\n",
       "      <td>No</td>\n",
       "      <td>1</td>\n",
       "    </tr>\n",
       "    <tr>\n",
       "      <th>1083</th>\n",
       "      <td>11256802</td>\n",
       "      <td>Female</td>\n",
       "      <td>1964-10-22</td>\n",
       "      <td>LA</td>\n",
       "      <td>469-345-5617</td>\n",
       "      <td>Silver</td>\n",
       "      <td>12376894</td>\n",
       "      <td>11256802</td>\n",
       "      <td>Other driver error</td>\n",
       "      <td>2017-04-18</td>\n",
       "      <td>Auto</td>\n",
       "      <td>No</td>\n",
       "      <td>Material only</td>\n",
       "      <td>2840.0</td>\n",
       "      <td>4.0</td>\n",
       "      <td>No</td>\n",
       "      <td>0</td>\n",
       "    </tr>\n",
       "    <tr>\n",
       "      <th>1084</th>\n",
       "      <td>61575264</td>\n",
       "      <td>Male</td>\n",
       "      <td>1995-07-12</td>\n",
       "      <td>WY</td>\n",
       "      <td>182-385-1392</td>\n",
       "      <td>Gold</td>\n",
       "      <td>63226031</td>\n",
       "      <td>61575264</td>\n",
       "      <td>Natural causes</td>\n",
       "      <td>2017-03-16</td>\n",
       "      <td>Auto</td>\n",
       "      <td>No</td>\n",
       "      <td>Material only</td>\n",
       "      <td>1490.0</td>\n",
       "      <td>1.0</td>\n",
       "      <td>No</td>\n",
       "      <td>0</td>\n",
       "    </tr>\n",
       "  </tbody>\n",
       "</table>\n",
       "<p>1085 rows × 17 columns</p>\n",
       "</div>"
      ],
      "text/plain": [
       "       CUST_ID  gender DateOfBirth State       Contact   Segment  claim_id  \\\n",
       "0     21868593  Female  1979-01-12    VT  789-916-8172  Platinum  54004764   \n",
       "1     75740424  Female  1970-01-13    ME  265-543-1264    Silver  33985796   \n",
       "2     30308357  Female  1984-03-11    TN  798-631-4758    Silver  53522022   \n",
       "3     30308357  Female  1984-03-11    TN  798-631-4758    Silver  63017412   \n",
       "4     47830476  Female  1986-05-01    MA  413-187-7945    Silver  13015401   \n",
       "...        ...     ...         ...   ...           ...       ...       ...   \n",
       "1080  79539873  Female  1981-03-15    ND  459-425-4319  Platinum  62020796   \n",
       "1081  42364152  Female  1996-07-07    ID  529-462-1635    Silver  63269067   \n",
       "1082  19888166    Male  1990-04-11    WI  712-651-9613      Gold  22690595   \n",
       "1083  11256802  Female  1964-10-22    LA  469-345-5617    Silver  12376894   \n",
       "1084  61575264    Male  1995-07-12    WY  182-385-1392      Gold  63226031   \n",
       "\n",
       "      customer_id      incident_cause claim_date claim_area police_report  \\\n",
       "0        21868593        Driver error 2017-11-27       Auto            No   \n",
       "1        75740424               Crime 2018-10-03       Home       Unknown   \n",
       "2        30308357  Other driver error 2018-02-02       Auto            No   \n",
       "3        30308357        Driver error 2018-04-04       Auto            No   \n",
       "4        47830476      Natural causes 2018-06-17       Auto            No   \n",
       "...           ...                 ...        ...        ...           ...   \n",
       "1080     79539873  Other driver error 2018-09-06       Auto           Yes   \n",
       "1081     42364152        Other causes 2017-05-09       Home            No   \n",
       "1082     19888166  Other driver error 2017-05-15       Auto           Yes   \n",
       "1083     11256802  Other driver error 2017-04-18       Auto            No   \n",
       "1084     61575264      Natural causes 2017-03-16       Auto            No   \n",
       "\n",
       "         claim_type  claim_amount  total_policy_claims fraudulent  \\\n",
       "0     Material only        2980.0                  1.0         No   \n",
       "1     Material only        2980.0                  3.0         No   \n",
       "2     Material only        3369.5                  1.0        Yes   \n",
       "3     Material only        1950.0                  6.0         No   \n",
       "4     Material only        1680.0                  1.0         No   \n",
       "...             ...           ...                  ...        ...   \n",
       "1080  Material only        1770.0                  1.0         No   \n",
       "1081  Material only        2800.0                  1.0         No   \n",
       "1082    Injury only       33080.0                  2.0         No   \n",
       "1083  Material only        2840.0                  4.0         No   \n",
       "1084  Material only        1490.0                  1.0         No   \n",
       "\n",
       "      police_rep_flag  \n",
       "0                   0  \n",
       "1                   0  \n",
       "2                   0  \n",
       "3                   0  \n",
       "4                   0  \n",
       "...               ...  \n",
       "1080                1  \n",
       "1081                0  \n",
       "1082                1  \n",
       "1083                0  \n",
       "1084                0  \n",
       "\n",
       "[1085 rows x 17 columns]"
      ]
     },
     "execution_count": 13,
     "metadata": {},
     "output_type": "execute_result"
    }
   ],
   "source": [
    "cust_claims['police_rep_flag'] = cust_claims.police_report.where(cust_claims.police_report == 'Yes', 0)\n",
    "cust_claims['police_rep_flag'] = cust_claims.police_rep_flag.where(cust_claims.police_rep_flag==0, 1)\n",
    "cust_claims.police_rep_flag = cust_claims.police_rep_flag.astype('int')\n",
    "cust_claims"
   ]
  },
  {
   "cell_type": "markdown",
   "id": "e16384db",
   "metadata": {},
   "source": [
    "### 5. One customer can claim for insurance more than once and in each claim, multiple categories of claims can be involved. However, customer ID should remain unique. \n",
    "Retain the most recent observation and delete any duplicated records in the data based on the customer ID column."
   ]
  },
  {
   "cell_type": "code",
   "execution_count": 14,
   "id": "07f63dbe",
   "metadata": {},
   "outputs": [
    {
     "data": {
      "text/plain": [
       "Index([   0,    1,    2,    4,    6,    8,   10,   11,   12,   13,\n",
       "       ...\n",
       "       1075, 1076, 1077, 1078, 1079, 1080, 1081, 1082, 1083, 1084],\n",
       "      dtype='int64', length=1078)"
      ]
     },
     "execution_count": 14,
     "metadata": {},
     "output_type": "execute_result"
    }
   ],
   "source": [
    "cust_claims.CUST_ID.drop_duplicates().index"
   ]
  },
  {
   "cell_type": "code",
   "execution_count": 15,
   "id": "987bebfd",
   "metadata": {},
   "outputs": [
    {
     "data": {
      "text/html": [
       "<div>\n",
       "<style scoped>\n",
       "    .dataframe tbody tr th:only-of-type {\n",
       "        vertical-align: middle;\n",
       "    }\n",
       "\n",
       "    .dataframe tbody tr th {\n",
       "        vertical-align: top;\n",
       "    }\n",
       "\n",
       "    .dataframe thead th {\n",
       "        text-align: right;\n",
       "    }\n",
       "</style>\n",
       "<table border=\"1\" class=\"dataframe\">\n",
       "  <thead>\n",
       "    <tr style=\"text-align: right;\">\n",
       "      <th></th>\n",
       "      <th>CUST_ID</th>\n",
       "      <th>gender</th>\n",
       "      <th>DateOfBirth</th>\n",
       "      <th>State</th>\n",
       "      <th>Contact</th>\n",
       "      <th>Segment</th>\n",
       "      <th>claim_id</th>\n",
       "      <th>customer_id</th>\n",
       "      <th>incident_cause</th>\n",
       "      <th>claim_date</th>\n",
       "      <th>claim_area</th>\n",
       "      <th>police_report</th>\n",
       "      <th>claim_type</th>\n",
       "      <th>claim_amount</th>\n",
       "      <th>total_policy_claims</th>\n",
       "      <th>fraudulent</th>\n",
       "      <th>police_rep_flag</th>\n",
       "    </tr>\n",
       "  </thead>\n",
       "  <tbody>\n",
       "    <tr>\n",
       "      <th>0</th>\n",
       "      <td>21868593</td>\n",
       "      <td>Female</td>\n",
       "      <td>1979-01-12</td>\n",
       "      <td>VT</td>\n",
       "      <td>789-916-8172</td>\n",
       "      <td>Platinum</td>\n",
       "      <td>54004764</td>\n",
       "      <td>21868593</td>\n",
       "      <td>Driver error</td>\n",
       "      <td>2017-11-27</td>\n",
       "      <td>Auto</td>\n",
       "      <td>No</td>\n",
       "      <td>Material only</td>\n",
       "      <td>2980.0</td>\n",
       "      <td>1.0</td>\n",
       "      <td>No</td>\n",
       "      <td>0</td>\n",
       "    </tr>\n",
       "    <tr>\n",
       "      <th>1</th>\n",
       "      <td>75740424</td>\n",
       "      <td>Female</td>\n",
       "      <td>1970-01-13</td>\n",
       "      <td>ME</td>\n",
       "      <td>265-543-1264</td>\n",
       "      <td>Silver</td>\n",
       "      <td>33985796</td>\n",
       "      <td>75740424</td>\n",
       "      <td>Crime</td>\n",
       "      <td>2018-10-03</td>\n",
       "      <td>Home</td>\n",
       "      <td>Unknown</td>\n",
       "      <td>Material only</td>\n",
       "      <td>2980.0</td>\n",
       "      <td>3.0</td>\n",
       "      <td>No</td>\n",
       "      <td>0</td>\n",
       "    </tr>\n",
       "    <tr>\n",
       "      <th>2</th>\n",
       "      <td>30308357</td>\n",
       "      <td>Female</td>\n",
       "      <td>1984-03-11</td>\n",
       "      <td>TN</td>\n",
       "      <td>798-631-4758</td>\n",
       "      <td>Silver</td>\n",
       "      <td>53522022</td>\n",
       "      <td>30308357</td>\n",
       "      <td>Other driver error</td>\n",
       "      <td>2018-02-02</td>\n",
       "      <td>Auto</td>\n",
       "      <td>No</td>\n",
       "      <td>Material only</td>\n",
       "      <td>3369.5</td>\n",
       "      <td>1.0</td>\n",
       "      <td>Yes</td>\n",
       "      <td>0</td>\n",
       "    </tr>\n",
       "    <tr>\n",
       "      <th>3</th>\n",
       "      <td>47830476</td>\n",
       "      <td>Female</td>\n",
       "      <td>1986-05-01</td>\n",
       "      <td>MA</td>\n",
       "      <td>413-187-7945</td>\n",
       "      <td>Silver</td>\n",
       "      <td>13015401</td>\n",
       "      <td>47830476</td>\n",
       "      <td>Natural causes</td>\n",
       "      <td>2018-06-17</td>\n",
       "      <td>Auto</td>\n",
       "      <td>No</td>\n",
       "      <td>Material only</td>\n",
       "      <td>1680.0</td>\n",
       "      <td>1.0</td>\n",
       "      <td>No</td>\n",
       "      <td>0</td>\n",
       "    </tr>\n",
       "    <tr>\n",
       "      <th>4</th>\n",
       "      <td>19269962</td>\n",
       "      <td>Male</td>\n",
       "      <td>1977-05-13</td>\n",
       "      <td>NV</td>\n",
       "      <td>956-871-8691</td>\n",
       "      <td>Gold</td>\n",
       "      <td>22890252</td>\n",
       "      <td>19269962</td>\n",
       "      <td>Crime</td>\n",
       "      <td>2018-01-13</td>\n",
       "      <td>Auto</td>\n",
       "      <td>No</td>\n",
       "      <td>Material only</td>\n",
       "      <td>2680.0</td>\n",
       "      <td>1.0</td>\n",
       "      <td>No</td>\n",
       "      <td>0</td>\n",
       "    </tr>\n",
       "    <tr>\n",
       "      <th>...</th>\n",
       "      <td>...</td>\n",
       "      <td>...</td>\n",
       "      <td>...</td>\n",
       "      <td>...</td>\n",
       "      <td>...</td>\n",
       "      <td>...</td>\n",
       "      <td>...</td>\n",
       "      <td>...</td>\n",
       "      <td>...</td>\n",
       "      <td>...</td>\n",
       "      <td>...</td>\n",
       "      <td>...</td>\n",
       "      <td>...</td>\n",
       "      <td>...</td>\n",
       "      <td>...</td>\n",
       "      <td>...</td>\n",
       "      <td>...</td>\n",
       "    </tr>\n",
       "    <tr>\n",
       "      <th>1073</th>\n",
       "      <td>79539873</td>\n",
       "      <td>Female</td>\n",
       "      <td>1981-03-15</td>\n",
       "      <td>ND</td>\n",
       "      <td>459-425-4319</td>\n",
       "      <td>Platinum</td>\n",
       "      <td>62020796</td>\n",
       "      <td>79539873</td>\n",
       "      <td>Other driver error</td>\n",
       "      <td>2018-09-06</td>\n",
       "      <td>Auto</td>\n",
       "      <td>Yes</td>\n",
       "      <td>Material only</td>\n",
       "      <td>1770.0</td>\n",
       "      <td>1.0</td>\n",
       "      <td>No</td>\n",
       "      <td>1</td>\n",
       "    </tr>\n",
       "    <tr>\n",
       "      <th>1074</th>\n",
       "      <td>42364152</td>\n",
       "      <td>Female</td>\n",
       "      <td>1996-07-07</td>\n",
       "      <td>ID</td>\n",
       "      <td>529-462-1635</td>\n",
       "      <td>Silver</td>\n",
       "      <td>63269067</td>\n",
       "      <td>42364152</td>\n",
       "      <td>Other causes</td>\n",
       "      <td>2017-05-09</td>\n",
       "      <td>Home</td>\n",
       "      <td>No</td>\n",
       "      <td>Material only</td>\n",
       "      <td>2800.0</td>\n",
       "      <td>1.0</td>\n",
       "      <td>No</td>\n",
       "      <td>0</td>\n",
       "    </tr>\n",
       "    <tr>\n",
       "      <th>1075</th>\n",
       "      <td>19888166</td>\n",
       "      <td>Male</td>\n",
       "      <td>1990-04-11</td>\n",
       "      <td>WI</td>\n",
       "      <td>712-651-9613</td>\n",
       "      <td>Gold</td>\n",
       "      <td>22690595</td>\n",
       "      <td>19888166</td>\n",
       "      <td>Other driver error</td>\n",
       "      <td>2017-05-15</td>\n",
       "      <td>Auto</td>\n",
       "      <td>Yes</td>\n",
       "      <td>Injury only</td>\n",
       "      <td>33080.0</td>\n",
       "      <td>2.0</td>\n",
       "      <td>No</td>\n",
       "      <td>1</td>\n",
       "    </tr>\n",
       "    <tr>\n",
       "      <th>1076</th>\n",
       "      <td>11256802</td>\n",
       "      <td>Female</td>\n",
       "      <td>1964-10-22</td>\n",
       "      <td>LA</td>\n",
       "      <td>469-345-5617</td>\n",
       "      <td>Silver</td>\n",
       "      <td>12376894</td>\n",
       "      <td>11256802</td>\n",
       "      <td>Other driver error</td>\n",
       "      <td>2017-04-18</td>\n",
       "      <td>Auto</td>\n",
       "      <td>No</td>\n",
       "      <td>Material only</td>\n",
       "      <td>2840.0</td>\n",
       "      <td>4.0</td>\n",
       "      <td>No</td>\n",
       "      <td>0</td>\n",
       "    </tr>\n",
       "    <tr>\n",
       "      <th>1077</th>\n",
       "      <td>61575264</td>\n",
       "      <td>Male</td>\n",
       "      <td>1995-07-12</td>\n",
       "      <td>WY</td>\n",
       "      <td>182-385-1392</td>\n",
       "      <td>Gold</td>\n",
       "      <td>63226031</td>\n",
       "      <td>61575264</td>\n",
       "      <td>Natural causes</td>\n",
       "      <td>2017-03-16</td>\n",
       "      <td>Auto</td>\n",
       "      <td>No</td>\n",
       "      <td>Material only</td>\n",
       "      <td>1490.0</td>\n",
       "      <td>1.0</td>\n",
       "      <td>No</td>\n",
       "      <td>0</td>\n",
       "    </tr>\n",
       "  </tbody>\n",
       "</table>\n",
       "<p>1078 rows × 17 columns</p>\n",
       "</div>"
      ],
      "text/plain": [
       "       CUST_ID  gender DateOfBirth State       Contact   Segment  claim_id  \\\n",
       "0     21868593  Female  1979-01-12    VT  789-916-8172  Platinum  54004764   \n",
       "1     75740424  Female  1970-01-13    ME  265-543-1264    Silver  33985796   \n",
       "2     30308357  Female  1984-03-11    TN  798-631-4758    Silver  53522022   \n",
       "3     47830476  Female  1986-05-01    MA  413-187-7945    Silver  13015401   \n",
       "4     19269962    Male  1977-05-13    NV  956-871-8691      Gold  22890252   \n",
       "...        ...     ...         ...   ...           ...       ...       ...   \n",
       "1073  79539873  Female  1981-03-15    ND  459-425-4319  Platinum  62020796   \n",
       "1074  42364152  Female  1996-07-07    ID  529-462-1635    Silver  63269067   \n",
       "1075  19888166    Male  1990-04-11    WI  712-651-9613      Gold  22690595   \n",
       "1076  11256802  Female  1964-10-22    LA  469-345-5617    Silver  12376894   \n",
       "1077  61575264    Male  1995-07-12    WY  182-385-1392      Gold  63226031   \n",
       "\n",
       "      customer_id      incident_cause claim_date claim_area police_report  \\\n",
       "0        21868593        Driver error 2017-11-27       Auto            No   \n",
       "1        75740424               Crime 2018-10-03       Home       Unknown   \n",
       "2        30308357  Other driver error 2018-02-02       Auto            No   \n",
       "3        47830476      Natural causes 2018-06-17       Auto            No   \n",
       "4        19269962               Crime 2018-01-13       Auto            No   \n",
       "...           ...                 ...        ...        ...           ...   \n",
       "1073     79539873  Other driver error 2018-09-06       Auto           Yes   \n",
       "1074     42364152        Other causes 2017-05-09       Home            No   \n",
       "1075     19888166  Other driver error 2017-05-15       Auto           Yes   \n",
       "1076     11256802  Other driver error 2017-04-18       Auto            No   \n",
       "1077     61575264      Natural causes 2017-03-16       Auto            No   \n",
       "\n",
       "         claim_type  claim_amount  total_policy_claims fraudulent  \\\n",
       "0     Material only        2980.0                  1.0         No   \n",
       "1     Material only        2980.0                  3.0         No   \n",
       "2     Material only        3369.5                  1.0        Yes   \n",
       "3     Material only        1680.0                  1.0         No   \n",
       "4     Material only        2680.0                  1.0         No   \n",
       "...             ...           ...                  ...        ...   \n",
       "1073  Material only        1770.0                  1.0         No   \n",
       "1074  Material only        2800.0                  1.0         No   \n",
       "1075    Injury only       33080.0                  2.0         No   \n",
       "1076  Material only        2840.0                  4.0         No   \n",
       "1077  Material only        1490.0                  1.0         No   \n",
       "\n",
       "      police_rep_flag  \n",
       "0                   0  \n",
       "1                   0  \n",
       "2                   0  \n",
       "3                   0  \n",
       "4                   0  \n",
       "...               ...  \n",
       "1073                1  \n",
       "1074                0  \n",
       "1075                1  \n",
       "1076                0  \n",
       "1077                0  \n",
       "\n",
       "[1078 rows x 17 columns]"
      ]
     },
     "execution_count": 15,
     "metadata": {},
     "output_type": "execute_result"
    }
   ],
   "source": [
    "cust_claims = cust_claims.iloc[cust_claims.CUST_ID.drop_duplicates().index].reset_index()\\\n",
    "                                    .drop(columns='index')\n",
    "cust_claims"
   ]
  },
  {
   "cell_type": "markdown",
   "id": "b23e8d6d",
   "metadata": {},
   "source": [
    "### 6. Check for missing values and impute the missing values with an appropriate value. (mean for continuous and mode for categorical)"
   ]
  },
  {
   "cell_type": "code",
   "execution_count": 16,
   "id": "d99adef6",
   "metadata": {
    "scrolled": true
   },
   "outputs": [
    {
     "name": "stdout",
     "output_type": "stream",
     "text": [
      "The number of missing Continious values is \n",
      " CUST_ID                 0\n",
      "claim_id                0\n",
      "customer_id             0\n",
      "claim_amount           65\n",
      "total_policy_claims    10\n",
      "police_rep_flag         0\n",
      "dtype: int64\n",
      "The number of missing Categoriacal values is \n",
      " gender            0\n",
      "State             0\n",
      "Contact           0\n",
      "Segment           0\n",
      "incident_cause    0\n",
      "claim_area        0\n",
      "police_report     0\n",
      "claim_type        0\n",
      "fraudulent        0\n",
      "dtype: int64\n"
     ]
    }
   ],
   "source": [
    "print(\"The number of missing Continious values is\",'\\n',cust_claims.select_dtypes('number').isna().sum())\n",
    "print(\"The number of missing Categoriacal values is\",'\\n',cust_claims.select_dtypes('object').isna().sum())"
   ]
  },
  {
   "cell_type": "code",
   "execution_count": 17,
   "id": "23f53f3d",
   "metadata": {},
   "outputs": [
    {
     "name": "stderr",
     "output_type": "stream",
     "text": [
      "C:\\Users\\Kaniska Jain\\AppData\\Local\\Temp\\ipykernel_32048\\3744445586.py:1: FutureWarning: A value is trying to be set on a copy of a DataFrame or Series through chained assignment using an inplace method.\n",
      "The behavior will change in pandas 3.0. This inplace method will never work because the intermediate object on which we are setting values always behaves as a copy.\n",
      "\n",
      "For example, when doing 'df[col].method(value, inplace=True)', try using 'df.method({col: value}, inplace=True)' or df[col] = df[col].method(value) instead, to perform the operation inplace on the original object.\n",
      "\n",
      "\n",
      "  cust_claims.claim_amount.fillna(cust_claims.claim_amount.mean(), inplace=True)\n",
      "C:\\Users\\Kaniska Jain\\AppData\\Local\\Temp\\ipykernel_32048\\3744445586.py:2: FutureWarning: A value is trying to be set on a copy of a DataFrame or Series through chained assignment using an inplace method.\n",
      "The behavior will change in pandas 3.0. This inplace method will never work because the intermediate object on which we are setting values always behaves as a copy.\n",
      "\n",
      "For example, when doing 'df[col].method(value, inplace=True)', try using 'df.method({col: value}, inplace=True)' or df[col] = df[col].method(value) instead, to perform the operation inplace on the original object.\n",
      "\n",
      "\n",
      "  cust_claims.total_policy_claims.fillna(cust_claims.total_policy_claims.mean(), inplace=True)\n"
     ]
    }
   ],
   "source": [
    "cust_claims.claim_amount.fillna(cust_claims.claim_amount.mean(), inplace=True)\n",
    "cust_claims.total_policy_claims.fillna(cust_claims.total_policy_claims.mean(), inplace=True)"
   ]
  },
  {
   "cell_type": "code",
   "execution_count": 18,
   "id": "73d92a1a",
   "metadata": {},
   "outputs": [
    {
     "name": "stdout",
     "output_type": "stream",
     "text": [
      "The number of missing Continious values is \n",
      " CUST_ID                0\n",
      "claim_id               0\n",
      "customer_id            0\n",
      "claim_amount           0\n",
      "total_policy_claims    0\n",
      "police_rep_flag        0\n",
      "dtype: int64\n",
      "The number of missing Categoriacal values is \n",
      " gender            0\n",
      "State             0\n",
      "Contact           0\n",
      "Segment           0\n",
      "incident_cause    0\n",
      "claim_area        0\n",
      "police_report     0\n",
      "claim_type        0\n",
      "fraudulent        0\n",
      "dtype: int64\n"
     ]
    }
   ],
   "source": [
    "print(\"The number of missing Continious values is\",'\\n',cust_claims.select_dtypes('number').isna().sum())\n",
    "print(\"The number of missing Categoriacal values is\",'\\n',cust_claims.select_dtypes('object').isna().sum())"
   ]
  },
  {
   "cell_type": "markdown",
   "id": "ca478bed",
   "metadata": {},
   "source": [
    "#### 7. Calculate the age of customers in years. Based on the age, categorize thecustomers according to the below criteria\n",
    "Children < 18,\n",
    "Youth 18-30,\n",
    "Adult 30-60,\n",
    "Senior > 60\n"
   ]
  },
  {
   "cell_type": "code",
   "execution_count": 19,
   "id": "2afce75d",
   "metadata": {},
   "outputs": [
    {
     "data": {
      "text/html": [
       "<div>\n",
       "<style scoped>\n",
       "    .dataframe tbody tr th:only-of-type {\n",
       "        vertical-align: middle;\n",
       "    }\n",
       "\n",
       "    .dataframe tbody tr th {\n",
       "        vertical-align: top;\n",
       "    }\n",
       "\n",
       "    .dataframe thead th {\n",
       "        text-align: right;\n",
       "    }\n",
       "</style>\n",
       "<table border=\"1\" class=\"dataframe\">\n",
       "  <thead>\n",
       "    <tr style=\"text-align: right;\">\n",
       "      <th></th>\n",
       "      <th>CUST_ID</th>\n",
       "      <th>gender</th>\n",
       "      <th>DateOfBirth</th>\n",
       "      <th>State</th>\n",
       "      <th>Contact</th>\n",
       "      <th>Segment</th>\n",
       "      <th>claim_id</th>\n",
       "      <th>customer_id</th>\n",
       "      <th>incident_cause</th>\n",
       "      <th>claim_date</th>\n",
       "      <th>claim_area</th>\n",
       "      <th>police_report</th>\n",
       "      <th>claim_type</th>\n",
       "      <th>claim_amount</th>\n",
       "      <th>total_policy_claims</th>\n",
       "      <th>fraudulent</th>\n",
       "      <th>police_rep_flag</th>\n",
       "    </tr>\n",
       "  </thead>\n",
       "  <tbody>\n",
       "    <tr>\n",
       "      <th>0</th>\n",
       "      <td>21868593</td>\n",
       "      <td>Female</td>\n",
       "      <td>1979-01-12</td>\n",
       "      <td>VT</td>\n",
       "      <td>789-916-8172</td>\n",
       "      <td>Platinum</td>\n",
       "      <td>54004764</td>\n",
       "      <td>21868593</td>\n",
       "      <td>Driver error</td>\n",
       "      <td>2017-11-27</td>\n",
       "      <td>Auto</td>\n",
       "      <td>No</td>\n",
       "      <td>Material only</td>\n",
       "      <td>2980.0</td>\n",
       "      <td>1.0</td>\n",
       "      <td>No</td>\n",
       "      <td>0</td>\n",
       "    </tr>\n",
       "  </tbody>\n",
       "</table>\n",
       "</div>"
      ],
      "text/plain": [
       "    CUST_ID  gender DateOfBirth State       Contact   Segment  claim_id  \\\n",
       "0  21868593  Female  1979-01-12    VT  789-916-8172  Platinum  54004764   \n",
       "\n",
       "   customer_id incident_cause claim_date claim_area police_report  \\\n",
       "0     21868593   Driver error 2017-11-27       Auto            No   \n",
       "\n",
       "      claim_type  claim_amount  total_policy_claims fraudulent  \\\n",
       "0  Material only        2980.0                  1.0         No   \n",
       "\n",
       "   police_rep_flag  \n",
       "0                0  "
      ]
     },
     "execution_count": 19,
     "metadata": {},
     "output_type": "execute_result"
    }
   ],
   "source": [
    "cust_claims.head(1)"
   ]
  },
  {
   "cell_type": "code",
   "execution_count": 20,
   "id": "0783e72a",
   "metadata": {},
   "outputs": [
    {
     "data": {
      "text/plain": [
       "datetime.datetime(2024, 2, 13, 12, 10, 45, 291208)"
      ]
     },
     "execution_count": 20,
     "metadata": {},
     "output_type": "execute_result"
    }
   ],
   "source": [
    "cur_date = datetime.now()\n",
    "cur_date"
   ]
  },
  {
   "cell_type": "code",
   "execution_count": 21,
   "id": "364f80a0",
   "metadata": {},
   "outputs": [
    {
     "data": {
      "text/plain": [
       "0       45\n",
       "1       54\n",
       "2       39\n",
       "3       37\n",
       "4       46\n",
       "        ..\n",
       "1073    42\n",
       "1074    27\n",
       "1075    33\n",
       "1076    59\n",
       "1077    28\n",
       "Name: DateOfBirth, Length: 1078, dtype: int64"
      ]
     },
     "execution_count": 21,
     "metadata": {},
     "output_type": "execute_result"
    }
   ],
   "source": [
    "((cur_date - cust_claims.DateOfBirth)/365.25).dt.days"
   ]
  },
  {
   "cell_type": "code",
   "execution_count": 22,
   "id": "9b52036c",
   "metadata": {},
   "outputs": [],
   "source": [
    "cust_claims['Age'] = ((cur_date - cust_claims.DateOfBirth)/365.25).dt.days"
   ]
  },
  {
   "cell_type": "code",
   "execution_count": 23,
   "id": "1473ec4f",
   "metadata": {},
   "outputs": [],
   "source": [
    "cust_claims['Age_Group'] = pd.cut(cust_claims.Age,bins=[0,18,30,60,100],\n",
    "                                  labels=['Child','Youth','Adult','Senior'])"
   ]
  },
  {
   "cell_type": "code",
   "execution_count": 24,
   "id": "68b93fce",
   "metadata": {},
   "outputs": [
    {
     "data": {
      "text/html": [
       "<div>\n",
       "<style scoped>\n",
       "    .dataframe tbody tr th:only-of-type {\n",
       "        vertical-align: middle;\n",
       "    }\n",
       "\n",
       "    .dataframe tbody tr th {\n",
       "        vertical-align: top;\n",
       "    }\n",
       "\n",
       "    .dataframe thead th {\n",
       "        text-align: right;\n",
       "    }\n",
       "</style>\n",
       "<table border=\"1\" class=\"dataframe\">\n",
       "  <thead>\n",
       "    <tr style=\"text-align: right;\">\n",
       "      <th></th>\n",
       "      <th>CUST_ID</th>\n",
       "      <th>gender</th>\n",
       "      <th>DateOfBirth</th>\n",
       "      <th>State</th>\n",
       "      <th>Contact</th>\n",
       "      <th>Segment</th>\n",
       "      <th>claim_id</th>\n",
       "      <th>customer_id</th>\n",
       "      <th>incident_cause</th>\n",
       "      <th>claim_date</th>\n",
       "      <th>claim_area</th>\n",
       "      <th>police_report</th>\n",
       "      <th>claim_type</th>\n",
       "      <th>claim_amount</th>\n",
       "      <th>total_policy_claims</th>\n",
       "      <th>fraudulent</th>\n",
       "      <th>police_rep_flag</th>\n",
       "      <th>Age</th>\n",
       "      <th>Age_Group</th>\n",
       "    </tr>\n",
       "  </thead>\n",
       "  <tbody>\n",
       "    <tr>\n",
       "      <th>0</th>\n",
       "      <td>21868593</td>\n",
       "      <td>Female</td>\n",
       "      <td>1979-01-12</td>\n",
       "      <td>VT</td>\n",
       "      <td>789-916-8172</td>\n",
       "      <td>Platinum</td>\n",
       "      <td>54004764</td>\n",
       "      <td>21868593</td>\n",
       "      <td>Driver error</td>\n",
       "      <td>2017-11-27</td>\n",
       "      <td>Auto</td>\n",
       "      <td>No</td>\n",
       "      <td>Material only</td>\n",
       "      <td>2980.0</td>\n",
       "      <td>1.0</td>\n",
       "      <td>No</td>\n",
       "      <td>0</td>\n",
       "      <td>45</td>\n",
       "      <td>Adult</td>\n",
       "    </tr>\n",
       "    <tr>\n",
       "      <th>1</th>\n",
       "      <td>75740424</td>\n",
       "      <td>Female</td>\n",
       "      <td>1970-01-13</td>\n",
       "      <td>ME</td>\n",
       "      <td>265-543-1264</td>\n",
       "      <td>Silver</td>\n",
       "      <td>33985796</td>\n",
       "      <td>75740424</td>\n",
       "      <td>Crime</td>\n",
       "      <td>2018-10-03</td>\n",
       "      <td>Home</td>\n",
       "      <td>Unknown</td>\n",
       "      <td>Material only</td>\n",
       "      <td>2980.0</td>\n",
       "      <td>3.0</td>\n",
       "      <td>No</td>\n",
       "      <td>0</td>\n",
       "      <td>54</td>\n",
       "      <td>Adult</td>\n",
       "    </tr>\n",
       "    <tr>\n",
       "      <th>2</th>\n",
       "      <td>30308357</td>\n",
       "      <td>Female</td>\n",
       "      <td>1984-03-11</td>\n",
       "      <td>TN</td>\n",
       "      <td>798-631-4758</td>\n",
       "      <td>Silver</td>\n",
       "      <td>53522022</td>\n",
       "      <td>30308357</td>\n",
       "      <td>Other driver error</td>\n",
       "      <td>2018-02-02</td>\n",
       "      <td>Auto</td>\n",
       "      <td>No</td>\n",
       "      <td>Material only</td>\n",
       "      <td>3369.5</td>\n",
       "      <td>1.0</td>\n",
       "      <td>Yes</td>\n",
       "      <td>0</td>\n",
       "      <td>39</td>\n",
       "      <td>Adult</td>\n",
       "    </tr>\n",
       "    <tr>\n",
       "      <th>3</th>\n",
       "      <td>47830476</td>\n",
       "      <td>Female</td>\n",
       "      <td>1986-05-01</td>\n",
       "      <td>MA</td>\n",
       "      <td>413-187-7945</td>\n",
       "      <td>Silver</td>\n",
       "      <td>13015401</td>\n",
       "      <td>47830476</td>\n",
       "      <td>Natural causes</td>\n",
       "      <td>2018-06-17</td>\n",
       "      <td>Auto</td>\n",
       "      <td>No</td>\n",
       "      <td>Material only</td>\n",
       "      <td>1680.0</td>\n",
       "      <td>1.0</td>\n",
       "      <td>No</td>\n",
       "      <td>0</td>\n",
       "      <td>37</td>\n",
       "      <td>Adult</td>\n",
       "    </tr>\n",
       "    <tr>\n",
       "      <th>4</th>\n",
       "      <td>19269962</td>\n",
       "      <td>Male</td>\n",
       "      <td>1977-05-13</td>\n",
       "      <td>NV</td>\n",
       "      <td>956-871-8691</td>\n",
       "      <td>Gold</td>\n",
       "      <td>22890252</td>\n",
       "      <td>19269962</td>\n",
       "      <td>Crime</td>\n",
       "      <td>2018-01-13</td>\n",
       "      <td>Auto</td>\n",
       "      <td>No</td>\n",
       "      <td>Material only</td>\n",
       "      <td>2680.0</td>\n",
       "      <td>1.0</td>\n",
       "      <td>No</td>\n",
       "      <td>0</td>\n",
       "      <td>46</td>\n",
       "      <td>Adult</td>\n",
       "    </tr>\n",
       "  </tbody>\n",
       "</table>\n",
       "</div>"
      ],
      "text/plain": [
       "    CUST_ID  gender DateOfBirth State       Contact   Segment  claim_id  \\\n",
       "0  21868593  Female  1979-01-12    VT  789-916-8172  Platinum  54004764   \n",
       "1  75740424  Female  1970-01-13    ME  265-543-1264    Silver  33985796   \n",
       "2  30308357  Female  1984-03-11    TN  798-631-4758    Silver  53522022   \n",
       "3  47830476  Female  1986-05-01    MA  413-187-7945    Silver  13015401   \n",
       "4  19269962    Male  1977-05-13    NV  956-871-8691      Gold  22890252   \n",
       "\n",
       "   customer_id      incident_cause claim_date claim_area police_report  \\\n",
       "0     21868593        Driver error 2017-11-27       Auto            No   \n",
       "1     75740424               Crime 2018-10-03       Home       Unknown   \n",
       "2     30308357  Other driver error 2018-02-02       Auto            No   \n",
       "3     47830476      Natural causes 2018-06-17       Auto            No   \n",
       "4     19269962               Crime 2018-01-13       Auto            No   \n",
       "\n",
       "      claim_type  claim_amount  total_policy_claims fraudulent  \\\n",
       "0  Material only        2980.0                  1.0         No   \n",
       "1  Material only        2980.0                  3.0         No   \n",
       "2  Material only        3369.5                  1.0        Yes   \n",
       "3  Material only        1680.0                  1.0         No   \n",
       "4  Material only        2680.0                  1.0         No   \n",
       "\n",
       "   police_rep_flag  Age Age_Group  \n",
       "0                0   45     Adult  \n",
       "1                0   54     Adult  \n",
       "2                0   39     Adult  \n",
       "3                0   37     Adult  \n",
       "4                0   46     Adult  "
      ]
     },
     "execution_count": 24,
     "metadata": {},
     "output_type": "execute_result"
    }
   ],
   "source": [
    "cust_claims.head()"
   ]
  },
  {
   "cell_type": "markdown",
   "id": "0a3c6793",
   "metadata": {},
   "source": [
    "#### 8. What is the average amount claimed by the customers from various segments?"
   ]
  },
  {
   "cell_type": "code",
   "execution_count": 25,
   "id": "b7908e23",
   "metadata": {},
   "outputs": [
    {
     "data": {
      "text/html": [
       "<div>\n",
       "<style scoped>\n",
       "    .dataframe tbody tr th:only-of-type {\n",
       "        vertical-align: middle;\n",
       "    }\n",
       "\n",
       "    .dataframe tbody tr th {\n",
       "        vertical-align: top;\n",
       "    }\n",
       "\n",
       "    .dataframe thead th {\n",
       "        text-align: right;\n",
       "    }\n",
       "</style>\n",
       "<table border=\"1\" class=\"dataframe\">\n",
       "  <thead>\n",
       "    <tr style=\"text-align: right;\">\n",
       "      <th></th>\n",
       "      <th>Mean Claim Amount</th>\n",
       "    </tr>\n",
       "    <tr>\n",
       "      <th>Segment</th>\n",
       "      <th></th>\n",
       "    </tr>\n",
       "  </thead>\n",
       "  <tbody>\n",
       "    <tr>\n",
       "      <th>Gold</th>\n",
       "      <td>12756.479697</td>\n",
       "    </tr>\n",
       "    <tr>\n",
       "      <th>Platinum</th>\n",
       "      <td>12369.304648</td>\n",
       "    </tr>\n",
       "    <tr>\n",
       "      <th>Silver</th>\n",
       "      <td>12269.434851</td>\n",
       "    </tr>\n",
       "  </tbody>\n",
       "</table>\n",
       "</div>"
      ],
      "text/plain": [
       "          Mean Claim Amount\n",
       "Segment                    \n",
       "Gold           12756.479697\n",
       "Platinum       12369.304648\n",
       "Silver         12269.434851"
      ]
     },
     "execution_count": 25,
     "metadata": {},
     "output_type": "execute_result"
    }
   ],
   "source": [
    "pd.DataFrame(cust_claims.groupby(\"Segment\")['claim_amount'].mean())\\\n",
    "            .rename(columns={'claim_amount':'Mean Claim Amount'})"
   ]
  },
  {
   "cell_type": "markdown",
   "id": "dd37dec0",
   "metadata": {},
   "source": [
    "#### 9. What is the total claim amount based on incident cause for all the claims that have been done at least 20 days prior to 1st of October, 2018.\n"
   ]
  },
  {
   "cell_type": "code",
   "execution_count": 26,
   "id": "3df57068",
   "metadata": {},
   "outputs": [
    {
     "data": {
      "text/html": [
       "<div>\n",
       "<style scoped>\n",
       "    .dataframe tbody tr th:only-of-type {\n",
       "        vertical-align: middle;\n",
       "    }\n",
       "\n",
       "    .dataframe tbody tr th {\n",
       "        vertical-align: top;\n",
       "    }\n",
       "\n",
       "    .dataframe thead th {\n",
       "        text-align: right;\n",
       "    }\n",
       "</style>\n",
       "<table border=\"1\" class=\"dataframe\">\n",
       "  <thead>\n",
       "    <tr style=\"text-align: right;\">\n",
       "      <th></th>\n",
       "      <th>Total Claims before Sep 11 2018</th>\n",
       "    </tr>\n",
       "    <tr>\n",
       "      <th>incident_cause</th>\n",
       "      <th></th>\n",
       "    </tr>\n",
       "  </thead>\n",
       "  <tbody>\n",
       "    <tr>\n",
       "      <th>Crime</th>\n",
       "      <td>7.244625e+05</td>\n",
       "    </tr>\n",
       "    <tr>\n",
       "      <th>Driver error</th>\n",
       "      <td>3.264286e+06</td>\n",
       "    </tr>\n",
       "    <tr>\n",
       "      <th>Natural causes</th>\n",
       "      <td>1.312706e+06</td>\n",
       "    </tr>\n",
       "    <tr>\n",
       "      <th>Other causes</th>\n",
       "      <td>3.725038e+06</td>\n",
       "    </tr>\n",
       "    <tr>\n",
       "      <th>Other driver error</th>\n",
       "      <td>3.318806e+06</td>\n",
       "    </tr>\n",
       "  </tbody>\n",
       "</table>\n",
       "</div>"
      ],
      "text/plain": [
       "                    Total Claims before Sep 11 2018\n",
       "incident_cause                                     \n",
       "Crime                                  7.244625e+05\n",
       "Driver error                           3.264286e+06\n",
       "Natural causes                         1.312706e+06\n",
       "Other causes                           3.725038e+06\n",
       "Other driver error                     3.318806e+06"
      ]
     },
     "execution_count": 26,
     "metadata": {},
     "output_type": "execute_result"
    }
   ],
   "source": [
    "bef_oct1 = cust_claims[cust_claims.claim_date < '2018-09-11']\n",
    "pd.DataFrame(bef_oct1.groupby('incident_cause')['claim_amount'].sum())\\\n",
    "        .rename(columns={'claim_amount':'Total Claims before Sep 11 2018'})"
   ]
  },
  {
   "cell_type": "markdown",
   "id": "1a34fdaf",
   "metadata": {},
   "source": [
    "#### 10. How many adults from TX, DE and AK claimed insurance for driver related issues and causes? "
   ]
  },
  {
   "cell_type": "code",
   "execution_count": 27,
   "id": "5fdbcaef",
   "metadata": {},
   "outputs": [
    {
     "name": "stdout",
     "output_type": "stream",
     "text": [
      "The Number of Adults satisfying the above conditions are: 27\n"
     ]
    }
   ],
   "source": [
    "req = (((cust_claims.State == 'TX') |(cust_claims.State == 'DE') | (cust_claims.State == 'AK')) &\\\n",
    " ((cust_claims.incident_cause == 'Driver error') | (cust_claims.incident_cause == 'Other driver error')) &\\\n",
    "       (cust_claims.Age_Group == 'Adult')).sum()\n",
    "print(\"The Number of Adults satisfying the above conditions are:\",req)"
   ]
  },
  {
   "cell_type": "markdown",
   "id": "ac8d25a6",
   "metadata": {},
   "source": [
    "#### 11. Draw a pie chart between the aggregated value of claim amount based on gender and segment. Represent the claim amount as a percentage on the pie chart."
   ]
  },
  {
   "cell_type": "code",
   "execution_count": 28,
   "id": "94716e51",
   "metadata": {},
   "outputs": [
    {
     "data": {
      "text/html": [
       "<div>\n",
       "<style scoped>\n",
       "    .dataframe tbody tr th:only-of-type {\n",
       "        vertical-align: middle;\n",
       "    }\n",
       "\n",
       "    .dataframe tbody tr th {\n",
       "        vertical-align: top;\n",
       "    }\n",
       "\n",
       "    .dataframe thead th {\n",
       "        text-align: right;\n",
       "    }\n",
       "</style>\n",
       "<table border=\"1\" class=\"dataframe\">\n",
       "  <thead>\n",
       "    <tr style=\"text-align: right;\">\n",
       "      <th></th>\n",
       "      <th></th>\n",
       "      <th>claim_amount</th>\n",
       "    </tr>\n",
       "    <tr>\n",
       "      <th>gender</th>\n",
       "      <th>Segment</th>\n",
       "      <th></th>\n",
       "    </tr>\n",
       "  </thead>\n",
       "  <tbody>\n",
       "    <tr>\n",
       "      <th rowspan=\"3\" valign=\"top\">Female</th>\n",
       "      <th>Gold</th>\n",
       "      <td>2.109763e+06</td>\n",
       "    </tr>\n",
       "    <tr>\n",
       "      <th>Platinum</th>\n",
       "      <td>2.369503e+06</td>\n",
       "    </tr>\n",
       "    <tr>\n",
       "      <th>Silver</th>\n",
       "      <td>1.898558e+06</td>\n",
       "    </tr>\n",
       "    <tr>\n",
       "      <th rowspan=\"3\" valign=\"top\">Male</th>\n",
       "      <th>Gold</th>\n",
       "      <td>2.622890e+06</td>\n",
       "    </tr>\n",
       "    <tr>\n",
       "      <th>Platinum</th>\n",
       "      <td>2.095815e+06</td>\n",
       "    </tr>\n",
       "    <tr>\n",
       "      <th>Silver</th>\n",
       "      <td>2.346666e+06</td>\n",
       "    </tr>\n",
       "  </tbody>\n",
       "</table>\n",
       "</div>"
      ],
      "text/plain": [
       "                 claim_amount\n",
       "gender Segment               \n",
       "Female Gold      2.109763e+06\n",
       "       Platinum  2.369503e+06\n",
       "       Silver    1.898558e+06\n",
       "Male   Gold      2.622890e+06\n",
       "       Platinum  2.095815e+06\n",
       "       Silver    2.346666e+06"
      ]
     },
     "execution_count": 28,
     "metadata": {},
     "output_type": "execute_result"
    }
   ],
   "source": [
    "gen_seg = pd.DataFrame(cust_claims.groupby(['gender','Segment'])['claim_amount'].sum())\n",
    "gen_seg"
   ]
  },
  {
   "cell_type": "code",
   "execution_count": 29,
   "id": "82050f02",
   "metadata": {},
   "outputs": [
    {
     "data": {
      "image/png": "[encoded data removed]",
      "text/plain": [
       "<Figure size 640x480 with 1 Axes>"
      ]
     },
     "metadata": {},
     "output_type": "display_data"
    }
   ],
   "source": [
    "claim_amount = gen_seg['claim_amount']\n",
    "labels = [f\"{gender} - {segment}\" for gender, segment in gen_seg.index]\n",
    "plt.pie(claim_amount, labels=labels, autopct='%1.1f%%')\n",
    "plt.show()"
   ]
  },
  {
   "cell_type": "markdown",
   "id": "234f8c39",
   "metadata": {},
   "source": [
    "#### 12. Among males and females, which gender had claimed the most for any type of driver related issues? E.g. This metric can be compared using a bar chart"
   ]
  },
  {
   "cell_type": "code",
   "execution_count": 30,
   "id": "5231c796",
   "metadata": {},
   "outputs": [
    {
     "data": {
      "text/plain": [
       "array(['Driver error', 'Crime', 'Other driver error', 'Natural causes',\n",
       "       'Other causes'], dtype=object)"
      ]
     },
     "execution_count": 30,
     "metadata": {},
     "output_type": "execute_result"
    }
   ],
   "source": [
    "cust_claims.incident_cause.unique()"
   ]
  },
  {
   "cell_type": "code",
   "execution_count": 31,
   "id": "962bd965",
   "metadata": {},
   "outputs": [
    {
     "data": {
      "text/html": [
       "<div>\n",
       "<style scoped>\n",
       "    .dataframe tbody tr th:only-of-type {\n",
       "        vertical-align: middle;\n",
       "    }\n",
       "\n",
       "    .dataframe tbody tr th {\n",
       "        vertical-align: top;\n",
       "    }\n",
       "\n",
       "    .dataframe thead th {\n",
       "        text-align: right;\n",
       "    }\n",
       "</style>\n",
       "<table border=\"1\" class=\"dataframe\">\n",
       "  <thead>\n",
       "    <tr style=\"text-align: right;\">\n",
       "      <th></th>\n",
       "      <th>CUST_ID</th>\n",
       "      <th>gender</th>\n",
       "      <th>DateOfBirth</th>\n",
       "      <th>State</th>\n",
       "      <th>Contact</th>\n",
       "      <th>Segment</th>\n",
       "      <th>claim_id</th>\n",
       "      <th>customer_id</th>\n",
       "      <th>incident_cause</th>\n",
       "      <th>claim_date</th>\n",
       "      <th>claim_area</th>\n",
       "      <th>police_report</th>\n",
       "      <th>claim_type</th>\n",
       "      <th>claim_amount</th>\n",
       "      <th>total_policy_claims</th>\n",
       "      <th>fraudulent</th>\n",
       "      <th>police_rep_flag</th>\n",
       "      <th>Age</th>\n",
       "      <th>Age_Group</th>\n",
       "    </tr>\n",
       "  </thead>\n",
       "  <tbody>\n",
       "    <tr>\n",
       "      <th>0</th>\n",
       "      <td>21868593</td>\n",
       "      <td>Female</td>\n",
       "      <td>1979-01-12</td>\n",
       "      <td>VT</td>\n",
       "      <td>789-916-8172</td>\n",
       "      <td>Platinum</td>\n",
       "      <td>54004764</td>\n",
       "      <td>21868593</td>\n",
       "      <td>Driver error</td>\n",
       "      <td>2017-11-27</td>\n",
       "      <td>Auto</td>\n",
       "      <td>No</td>\n",
       "      <td>Material only</td>\n",
       "      <td>2980.0</td>\n",
       "      <td>1.0</td>\n",
       "      <td>No</td>\n",
       "      <td>0</td>\n",
       "      <td>45</td>\n",
       "      <td>Adult</td>\n",
       "    </tr>\n",
       "    <tr>\n",
       "      <th>2</th>\n",
       "      <td>30308357</td>\n",
       "      <td>Female</td>\n",
       "      <td>1984-03-11</td>\n",
       "      <td>TN</td>\n",
       "      <td>798-631-4758</td>\n",
       "      <td>Silver</td>\n",
       "      <td>53522022</td>\n",
       "      <td>30308357</td>\n",
       "      <td>Other driver error</td>\n",
       "      <td>2018-02-02</td>\n",
       "      <td>Auto</td>\n",
       "      <td>No</td>\n",
       "      <td>Material only</td>\n",
       "      <td>3369.5</td>\n",
       "      <td>1.0</td>\n",
       "      <td>Yes</td>\n",
       "      <td>0</td>\n",
       "      <td>39</td>\n",
       "      <td>Adult</td>\n",
       "    </tr>\n",
       "    <tr>\n",
       "      <th>5</th>\n",
       "      <td>21831191</td>\n",
       "      <td>Male</td>\n",
       "      <td>1977-05-17</td>\n",
       "      <td>NH</td>\n",
       "      <td>419-712-8513</td>\n",
       "      <td>Gold</td>\n",
       "      <td>24050443</td>\n",
       "      <td>21831191</td>\n",
       "      <td>Other driver error</td>\n",
       "      <td>2017-10-04</td>\n",
       "      <td>Auto</td>\n",
       "      <td>No</td>\n",
       "      <td>Injury only</td>\n",
       "      <td>38306.5</td>\n",
       "      <td>3.0</td>\n",
       "      <td>Yes</td>\n",
       "      <td>0</td>\n",
       "      <td>46</td>\n",
       "      <td>Adult</td>\n",
       "    </tr>\n",
       "    <tr>\n",
       "      <th>6</th>\n",
       "      <td>18401412</td>\n",
       "      <td>Male</td>\n",
       "      <td>1999-03-02</td>\n",
       "      <td>AR</td>\n",
       "      <td>752-398-2914</td>\n",
       "      <td>Gold</td>\n",
       "      <td>12878692</td>\n",
       "      <td>18401412</td>\n",
       "      <td>Driver error</td>\n",
       "      <td>2018-01-13</td>\n",
       "      <td>Auto</td>\n",
       "      <td>No</td>\n",
       "      <td>Material only</td>\n",
       "      <td>1730.0</td>\n",
       "      <td>4.0</td>\n",
       "      <td>No</td>\n",
       "      <td>0</td>\n",
       "      <td>24</td>\n",
       "      <td>Youth</td>\n",
       "    </tr>\n",
       "    <tr>\n",
       "      <th>10</th>\n",
       "      <td>99103685</td>\n",
       "      <td>Female</td>\n",
       "      <td>1985-12-30</td>\n",
       "      <td>KY</td>\n",
       "      <td>764-439-9856</td>\n",
       "      <td>Gold</td>\n",
       "      <td>74165873</td>\n",
       "      <td>99103685</td>\n",
       "      <td>Other driver error</td>\n",
       "      <td>2018-01-13</td>\n",
       "      <td>Home</td>\n",
       "      <td>No</td>\n",
       "      <td>Material only</td>\n",
       "      <td>1495.0</td>\n",
       "      <td>1.0</td>\n",
       "      <td>Yes</td>\n",
       "      <td>0</td>\n",
       "      <td>38</td>\n",
       "      <td>Adult</td>\n",
       "    </tr>\n",
       "    <tr>\n",
       "      <th>...</th>\n",
       "      <td>...</td>\n",
       "      <td>...</td>\n",
       "      <td>...</td>\n",
       "      <td>...</td>\n",
       "      <td>...</td>\n",
       "      <td>...</td>\n",
       "      <td>...</td>\n",
       "      <td>...</td>\n",
       "      <td>...</td>\n",
       "      <td>...</td>\n",
       "      <td>...</td>\n",
       "      <td>...</td>\n",
       "      <td>...</td>\n",
       "      <td>...</td>\n",
       "      <td>...</td>\n",
       "      <td>...</td>\n",
       "      <td>...</td>\n",
       "      <td>...</td>\n",
       "      <td>...</td>\n",
       "    </tr>\n",
       "    <tr>\n",
       "      <th>1068</th>\n",
       "      <td>82089910</td>\n",
       "      <td>Male</td>\n",
       "      <td>1973-10-09</td>\n",
       "      <td>FL</td>\n",
       "      <td>257-248-4825</td>\n",
       "      <td>Silver</td>\n",
       "      <td>28084004</td>\n",
       "      <td>82089910</td>\n",
       "      <td>Driver error</td>\n",
       "      <td>2018-06-03</td>\n",
       "      <td>Auto</td>\n",
       "      <td>No</td>\n",
       "      <td>Material only</td>\n",
       "      <td>2780.0</td>\n",
       "      <td>1.0</td>\n",
       "      <td>No</td>\n",
       "      <td>0</td>\n",
       "      <td>50</td>\n",
       "      <td>Adult</td>\n",
       "    </tr>\n",
       "    <tr>\n",
       "      <th>1071</th>\n",
       "      <td>6756905</td>\n",
       "      <td>Male</td>\n",
       "      <td>1997-10-21</td>\n",
       "      <td>NE</td>\n",
       "      <td>924-427-8125</td>\n",
       "      <td>Silver</td>\n",
       "      <td>47457836</td>\n",
       "      <td>6756905</td>\n",
       "      <td>Driver error</td>\n",
       "      <td>2017-01-21</td>\n",
       "      <td>Auto</td>\n",
       "      <td>No</td>\n",
       "      <td>Material only</td>\n",
       "      <td>2320.0</td>\n",
       "      <td>3.0</td>\n",
       "      <td>No</td>\n",
       "      <td>0</td>\n",
       "      <td>26</td>\n",
       "      <td>Youth</td>\n",
       "    </tr>\n",
       "    <tr>\n",
       "      <th>1073</th>\n",
       "      <td>79539873</td>\n",
       "      <td>Female</td>\n",
       "      <td>1981-03-15</td>\n",
       "      <td>ND</td>\n",
       "      <td>459-425-4319</td>\n",
       "      <td>Platinum</td>\n",
       "      <td>62020796</td>\n",
       "      <td>79539873</td>\n",
       "      <td>Other driver error</td>\n",
       "      <td>2018-09-06</td>\n",
       "      <td>Auto</td>\n",
       "      <td>Yes</td>\n",
       "      <td>Material only</td>\n",
       "      <td>1770.0</td>\n",
       "      <td>1.0</td>\n",
       "      <td>No</td>\n",
       "      <td>1</td>\n",
       "      <td>42</td>\n",
       "      <td>Adult</td>\n",
       "    </tr>\n",
       "    <tr>\n",
       "      <th>1075</th>\n",
       "      <td>19888166</td>\n",
       "      <td>Male</td>\n",
       "      <td>1990-04-11</td>\n",
       "      <td>WI</td>\n",
       "      <td>712-651-9613</td>\n",
       "      <td>Gold</td>\n",
       "      <td>22690595</td>\n",
       "      <td>19888166</td>\n",
       "      <td>Other driver error</td>\n",
       "      <td>2017-05-15</td>\n",
       "      <td>Auto</td>\n",
       "      <td>Yes</td>\n",
       "      <td>Injury only</td>\n",
       "      <td>33080.0</td>\n",
       "      <td>2.0</td>\n",
       "      <td>No</td>\n",
       "      <td>1</td>\n",
       "      <td>33</td>\n",
       "      <td>Adult</td>\n",
       "    </tr>\n",
       "    <tr>\n",
       "      <th>1076</th>\n",
       "      <td>11256802</td>\n",
       "      <td>Female</td>\n",
       "      <td>1964-10-22</td>\n",
       "      <td>LA</td>\n",
       "      <td>469-345-5617</td>\n",
       "      <td>Silver</td>\n",
       "      <td>12376894</td>\n",
       "      <td>11256802</td>\n",
       "      <td>Other driver error</td>\n",
       "      <td>2017-04-18</td>\n",
       "      <td>Auto</td>\n",
       "      <td>No</td>\n",
       "      <td>Material only</td>\n",
       "      <td>2840.0</td>\n",
       "      <td>4.0</td>\n",
       "      <td>No</td>\n",
       "      <td>0</td>\n",
       "      <td>59</td>\n",
       "      <td>Adult</td>\n",
       "    </tr>\n",
       "  </tbody>\n",
       "</table>\n",
       "<p>501 rows × 19 columns</p>\n",
       "</div>"
      ],
      "text/plain": [
       "       CUST_ID  gender DateOfBirth State       Contact   Segment  claim_id  \\\n",
       "0     21868593  Female  1979-01-12    VT  789-916-8172  Platinum  54004764   \n",
       "2     30308357  Female  1984-03-11    TN  798-631-4758    Silver  53522022   \n",
       "5     21831191    Male  1977-05-17    NH  419-712-8513      Gold  24050443   \n",
       "6     18401412    Male  1999-03-02    AR  752-398-2914      Gold  12878692   \n",
       "10    99103685  Female  1985-12-30    KY  764-439-9856      Gold  74165873   \n",
       "...        ...     ...         ...   ...           ...       ...       ...   \n",
       "1068  82089910    Male  1973-10-09    FL  257-248-4825    Silver  28084004   \n",
       "1071   6756905    Male  1997-10-21    NE  924-427-8125    Silver  47457836   \n",
       "1073  79539873  Female  1981-03-15    ND  459-425-4319  Platinum  62020796   \n",
       "1075  19888166    Male  1990-04-11    WI  712-651-9613      Gold  22690595   \n",
       "1076  11256802  Female  1964-10-22    LA  469-345-5617    Silver  12376894   \n",
       "\n",
       "      customer_id      incident_cause claim_date claim_area police_report  \\\n",
       "0        21868593        Driver error 2017-11-27       Auto            No   \n",
       "2        30308357  Other driver error 2018-02-02       Auto            No   \n",
       "5        21831191  Other driver error 2017-10-04       Auto            No   \n",
       "6        18401412        Driver error 2018-01-13       Auto            No   \n",
       "10       99103685  Other driver error 2018-01-13       Home            No   \n",
       "...           ...                 ...        ...        ...           ...   \n",
       "1068     82089910        Driver error 2018-06-03       Auto            No   \n",
       "1071      6756905        Driver error 2017-01-21       Auto            No   \n",
       "1073     79539873  Other driver error 2018-09-06       Auto           Yes   \n",
       "1075     19888166  Other driver error 2017-05-15       Auto           Yes   \n",
       "1076     11256802  Other driver error 2017-04-18       Auto            No   \n",
       "\n",
       "         claim_type  claim_amount  total_policy_claims fraudulent  \\\n",
       "0     Material only        2980.0                  1.0         No   \n",
       "2     Material only        3369.5                  1.0        Yes   \n",
       "5       Injury only       38306.5                  3.0        Yes   \n",
       "6     Material only        1730.0                  4.0         No   \n",
       "10    Material only        1495.0                  1.0        Yes   \n",
       "...             ...           ...                  ...        ...   \n",
       "1068  Material only        2780.0                  1.0         No   \n",
       "1071  Material only        2320.0                  3.0         No   \n",
       "1073  Material only        1770.0                  1.0         No   \n",
       "1075    Injury only       33080.0                  2.0         No   \n",
       "1076  Material only        2840.0                  4.0         No   \n",
       "\n",
       "      police_rep_flag  Age Age_Group  \n",
       "0                   0   45     Adult  \n",
       "2                   0   39     Adult  \n",
       "5                   0   46     Adult  \n",
       "6                   0   24     Youth  \n",
       "10                  0   38     Adult  \n",
       "...               ...  ...       ...  \n",
       "1068                0   50     Adult  \n",
       "1071                0   26     Youth  \n",
       "1073                1   42     Adult  \n",
       "1075                1   33     Adult  \n",
       "1076                0   59     Adult  \n",
       "\n",
       "[501 rows x 19 columns]"
      ]
     },
     "execution_count": 31,
     "metadata": {},
     "output_type": "execute_result"
    }
   ],
   "source": [
    "driver_er = cust_claims[(cust_claims.incident_cause=='Driver error') |\\\n",
    "            (cust_claims.incident_cause=='Other driver error')]\n",
    "driver_er"
   ]
  },
  {
   "cell_type": "code",
   "execution_count": 32,
   "id": "06e02d01",
   "metadata": {},
   "outputs": [
    {
     "name": "stdout",
     "output_type": "stream",
     "text": [
      "Amount Claimed by each gender with driver related issues of any kind gender\n",
      "Female    3.137731e+06\n",
      "Male      3.938907e+06\n",
      "Name: claim_amount, dtype: float64\n"
     ]
    },
    {
     "data": {
      "image/png": "[encoded data removed]",
      "text/plain": [
       "<Figure size 640x480 with 1 Axes>"
      ]
     },
     "metadata": {},
     "output_type": "display_data"
    }
   ],
   "source": [
    "print(\"Amount Claimed by each gender with driver related issues of any kind\",\n",
    "              driver_er.groupby('gender')['claim_amount'].sum())\n",
    "driver_er.groupby('gender')['claim_amount'].sum().plot(kind='bar', rot=0)\n",
    "plt.ylabel(\"Total Amount Claimed\")\n",
    "plt.title(\"Amounts Claimed by Gender in Driver Related incident\")\n",
    "plt.show()"
   ]
  },
  {
   "cell_type": "markdown",
   "id": "04092cb4",
   "metadata": {},
   "source": [
    "#### 13. Which age group had the maximum fraudulent policy claims? Visualize it on a bar chart."
   ]
  },
  {
   "cell_type": "code",
   "execution_count": 33,
   "id": "3fbb61ec",
   "metadata": {},
   "outputs": [
    {
     "name": "stdout",
     "output_type": "stream",
     "text": [
      "           Count of Fraud\n",
      "Age_Group                \n",
      "Adult                 187\n",
      "Youth                  39\n",
      "Senior                 21\n",
      "Child                   0\n",
      "\n",
      "The age group committing the most fraudulent activities is: Adult\n"
     ]
    },
    {
     "name": "stderr",
     "output_type": "stream",
     "text": [
      "C:\\Users\\Kaniska Jain\\AppData\\Local\\Temp\\ipykernel_32048\\2613746470.py:2: FutureWarning: The default of observed=False is deprecated and will be changed to True in a future version of pandas. Pass observed=False to retain current behavior or observed=True to adopt the future default and silence this warning.\n",
      "  fraud_grp = pd.DataFrame(fraud.groupby('Age_Group')['CUST_ID'].count().sort_values(ascending=False))\\\n"
     ]
    },
    {
     "data": {
      "image/png": "[encoded data removed]",
      "text/plain": [
       "<Figure size 640x480 with 1 Axes>"
      ]
     },
     "metadata": {},
     "output_type": "display_data"
    }
   ],
   "source": [
    "fraud = cust_claims[cust_claims.fraudulent == 'Yes']\n",
    "fraud_grp = pd.DataFrame(fraud.groupby('Age_Group')['CUST_ID'].count().sort_values(ascending=False))\\\n",
    "            .rename(columns={'CUST_ID':'Count of Fraud'})\n",
    "fraud_grp.plot(kind='bar',rot=0,color='r')\n",
    "print(fraud_grp)\n",
    "print()\n",
    "print('The age group committing the most fraudulent activities is:',fraud_grp.index[0])\n",
    "plt.show()"
   ]
  },
  {
   "cell_type": "markdown",
   "id": "6a2dd42b",
   "metadata": {},
   "source": [
    "#### 14. Visualize the monthly trend of the total amount that has been claimed by the customers. Ensure that on the “month” axis, the month is in a chronological order not alphabetical order. "
   ]
  },
  {
   "cell_type": "code",
   "execution_count": 34,
   "id": "1a50f29c",
   "metadata": {},
   "outputs": [],
   "source": [
    "month = pd.DataFrame(cust_claims.groupby(cust_claims.claim_date.dt.month_name())['claim_amount'].sum())"
   ]
  },
  {
   "cell_type": "code",
   "execution_count": 35,
   "id": "001e9ed8",
   "metadata": {},
   "outputs": [
    {
     "data": {
      "text/html": [
       "<div>\n",
       "<style scoped>\n",
       "    .dataframe tbody tr th:only-of-type {\n",
       "        vertical-align: middle;\n",
       "    }\n",
       "\n",
       "    .dataframe tbody tr th {\n",
       "        vertical-align: top;\n",
       "    }\n",
       "\n",
       "    .dataframe thead th {\n",
       "        text-align: right;\n",
       "    }\n",
       "</style>\n",
       "<table border=\"1\" class=\"dataframe\">\n",
       "  <thead>\n",
       "    <tr style=\"text-align: right;\">\n",
       "      <th></th>\n",
       "      <th>claim_amount</th>\n",
       "    </tr>\n",
       "    <tr>\n",
       "      <th>claim_date</th>\n",
       "      <th></th>\n",
       "    </tr>\n",
       "  </thead>\n",
       "  <tbody>\n",
       "    <tr>\n",
       "      <th>April</th>\n",
       "      <td>1.276071e+06</td>\n",
       "    </tr>\n",
       "    <tr>\n",
       "      <th>August</th>\n",
       "      <td>9.112035e+05</td>\n",
       "    </tr>\n",
       "    <tr>\n",
       "      <th>December</th>\n",
       "      <td>6.967015e+05</td>\n",
       "    </tr>\n",
       "    <tr>\n",
       "      <th>February</th>\n",
       "      <td>1.133107e+06</td>\n",
       "    </tr>\n",
       "    <tr>\n",
       "      <th>January</th>\n",
       "      <td>1.332012e+06</td>\n",
       "    </tr>\n",
       "    <tr>\n",
       "      <th>July</th>\n",
       "      <td>1.379035e+06</td>\n",
       "    </tr>\n",
       "    <tr>\n",
       "      <th>June</th>\n",
       "      <td>1.276333e+06</td>\n",
       "    </tr>\n",
       "    <tr>\n",
       "      <th>March</th>\n",
       "      <td>1.320094e+06</td>\n",
       "    </tr>\n",
       "    <tr>\n",
       "      <th>May</th>\n",
       "      <td>1.114211e+06</td>\n",
       "    </tr>\n",
       "    <tr>\n",
       "      <th>November</th>\n",
       "      <td>6.011250e+05</td>\n",
       "    </tr>\n",
       "    <tr>\n",
       "      <th>October</th>\n",
       "      <td>1.422655e+06</td>\n",
       "    </tr>\n",
       "    <tr>\n",
       "      <th>September</th>\n",
       "      <td>9.806480e+05</td>\n",
       "    </tr>\n",
       "  </tbody>\n",
       "</table>\n",
       "</div>"
      ],
      "text/plain": [
       "            claim_amount\n",
       "claim_date              \n",
       "April       1.276071e+06\n",
       "August      9.112035e+05\n",
       "December    6.967015e+05\n",
       "February    1.133107e+06\n",
       "January     1.332012e+06\n",
       "July        1.379035e+06\n",
       "June        1.276333e+06\n",
       "March       1.320094e+06\n",
       "May         1.114211e+06\n",
       "November    6.011250e+05\n",
       "October     1.422655e+06\n",
       "September   9.806480e+05"
      ]
     },
     "execution_count": 35,
     "metadata": {},
     "output_type": "execute_result"
    }
   ],
   "source": [
    "month"
   ]
  },
  {
   "cell_type": "code",
   "execution_count": 36,
   "id": "c08c7e63",
   "metadata": {},
   "outputs": [],
   "source": [
    "order = ['January','February','March','April',\n",
    "         'May','June','July','August','September','October','November','December']"
   ]
  },
  {
   "cell_type": "code",
   "execution_count": 37,
   "id": "ba409a65",
   "metadata": {},
   "outputs": [
    {
     "data": {
      "text/html": [
       "<div>\n",
       "<style scoped>\n",
       "    .dataframe tbody tr th:only-of-type {\n",
       "        vertical-align: middle;\n",
       "    }\n",
       "\n",
       "    .dataframe tbody tr th {\n",
       "        vertical-align: top;\n",
       "    }\n",
       "\n",
       "    .dataframe thead th {\n",
       "        text-align: right;\n",
       "    }\n",
       "</style>\n",
       "<table border=\"1\" class=\"dataframe\">\n",
       "  <thead>\n",
       "    <tr style=\"text-align: right;\">\n",
       "      <th></th>\n",
       "      <th>claim_amount</th>\n",
       "    </tr>\n",
       "    <tr>\n",
       "      <th>claim_date</th>\n",
       "      <th></th>\n",
       "    </tr>\n",
       "  </thead>\n",
       "  <tbody>\n",
       "    <tr>\n",
       "      <th>January</th>\n",
       "      <td>1.332012e+06</td>\n",
       "    </tr>\n",
       "    <tr>\n",
       "      <th>February</th>\n",
       "      <td>1.133107e+06</td>\n",
       "    </tr>\n",
       "    <tr>\n",
       "      <th>March</th>\n",
       "      <td>1.320094e+06</td>\n",
       "    </tr>\n",
       "    <tr>\n",
       "      <th>April</th>\n",
       "      <td>1.276071e+06</td>\n",
       "    </tr>\n",
       "    <tr>\n",
       "      <th>May</th>\n",
       "      <td>1.114211e+06</td>\n",
       "    </tr>\n",
       "    <tr>\n",
       "      <th>June</th>\n",
       "      <td>1.276333e+06</td>\n",
       "    </tr>\n",
       "    <tr>\n",
       "      <th>July</th>\n",
       "      <td>1.379035e+06</td>\n",
       "    </tr>\n",
       "    <tr>\n",
       "      <th>August</th>\n",
       "      <td>9.112035e+05</td>\n",
       "    </tr>\n",
       "    <tr>\n",
       "      <th>September</th>\n",
       "      <td>9.806480e+05</td>\n",
       "    </tr>\n",
       "    <tr>\n",
       "      <th>October</th>\n",
       "      <td>1.422655e+06</td>\n",
       "    </tr>\n",
       "    <tr>\n",
       "      <th>November</th>\n",
       "      <td>6.011250e+05</td>\n",
       "    </tr>\n",
       "    <tr>\n",
       "      <th>December</th>\n",
       "      <td>6.967015e+05</td>\n",
       "    </tr>\n",
       "  </tbody>\n",
       "</table>\n",
       "</div>"
      ],
      "text/plain": [
       "            claim_amount\n",
       "claim_date              \n",
       "January     1.332012e+06\n",
       "February    1.133107e+06\n",
       "March       1.320094e+06\n",
       "April       1.276071e+06\n",
       "May         1.114211e+06\n",
       "June        1.276333e+06\n",
       "July        1.379035e+06\n",
       "August      9.112035e+05\n",
       "September   9.806480e+05\n",
       "October     1.422655e+06\n",
       "November    6.011250e+05\n",
       "December    6.967015e+05"
      ]
     },
     "execution_count": 37,
     "metadata": {},
     "output_type": "execute_result"
    }
   ],
   "source": [
    "order_month =  month.loc[order]\n",
    "order_month"
   ]
  },
  {
   "cell_type": "code",
   "execution_count": 38,
   "id": "12ce011f",
   "metadata": {},
   "outputs": [
    {
     "data": {
      "image/png": "[encoded data removed]",
      "text/plain": [
       "<Figure size 1200x400 with 1 Axes>"
      ]
     },
     "metadata": {},
     "output_type": "display_data"
    }
   ],
   "source": [
    "plt.figure(figsize=(12,4))\n",
    "plt.plot(order_month.index,order_month['claim_amount'],label='Claim Amount',ls='--')\n",
    "plt.xlabel(\"Claim Month\")\n",
    "plt.ylabel(\"Claim Amount\")\n",
    "plt.title('Claim Amounts over the Months')\n",
    "plt.legend()\n",
    "plt.show()"
   ]
  },
  {
   "cell_type": "markdown",
   "id": "1351ef3c",
   "metadata": {},
   "source": [
    "#### 15. What is the average claim amount for gender and age categories and suitably represent the above using a facetted bar chart, one facet that represents fraudulent claims and the other for non-fraudulent claims."
   ]
  },
  {
   "cell_type": "code",
   "execution_count": 39,
   "id": "cd5a78c7",
   "metadata": {},
   "outputs": [
    {
     "name": "stderr",
     "output_type": "stream",
     "text": [
      "C:\\Users\\Kaniska Jain\\AppData\\Local\\Temp\\ipykernel_32048\\4212405454.py:1: FutureWarning: The default value of observed=False is deprecated and will change to observed=True in a future version of pandas. Specify observed=False to silence this warning and retain the current behavior\n",
      "  pd.pivot_table(data=cust_claims,index='Age_Group',columns='gender',values='claim_amount',aggfunc='mean')\\\n"
     ]
    },
    {
     "data": {
      "image/png": "[encoded data removed]",
      "text/plain": [
       "<Figure size 640x480 with 1 Axes>"
      ]
     },
     "metadata": {},
     "output_type": "display_data"
    }
   ],
   "source": [
    "pd.pivot_table(data=cust_claims,index='Age_Group',columns='gender',values='claim_amount',aggfunc='mean')\\\n",
    "        .plot(kind='bar',rot=0)\n",
    "plt.show()"
   ]
  },
  {
   "cell_type": "markdown",
   "id": "bc89b3fc",
   "metadata": {},
   "source": [
    "#### Based on the conclusions from exploratory analysis as well as suitable statistical tests, answer the below questions. Please include a detailed write-up on the parameters taken into consideration, the Hypothesis testing steps, conclusion from the p-values and the business implications of the statements. "
   ]
  },
  {
   "cell_type": "markdown",
   "id": "9296c5c4",
   "metadata": {},
   "source": [
    "#### 16. Is there any similarity in the amount claimed by males and females?\n"
   ]
  },
  {
   "cell_type": "markdown",
   "id": "2bf35e20",
   "metadata": {},
   "source": [
    "     Hypothesis Testing\n",
    "\n",
    "*Null Hypothesis H0 : there is similarity in the amounts claimed by males and females*\n",
    "MU(m) = MU(f)\n",
    "\n",
    "\n",
    "*Alternate Hypothesis Ha : there is no similarity in the amounts claimed by males and females*\n",
    "MU(m) != MU(f)\n",
    "\n",
    "*Significance Level: alpha = 0.05*"
   ]
  },
  {
   "cell_type": "code",
   "execution_count": 40,
   "id": "40032e89",
   "metadata": {},
   "outputs": [],
   "source": [
    "from scipy.stats import stats"
   ]
  },
  {
   "cell_type": "code",
   "execution_count": 41,
   "id": "fbeb4f78",
   "metadata": {},
   "outputs": [],
   "source": [
    "male_claims = cust_claims[cust_claims.gender == 'Male']['claim_amount']\n",
    "female_claims = cust_claims[cust_claims.gender == 'Female']['claim_amount']"
   ]
  },
  {
   "cell_type": "code",
   "execution_count": 42,
   "id": "9637f1bd",
   "metadata": {},
   "outputs": [
    {
     "name": "stderr",
     "output_type": "stream",
     "text": [
      "C:\\Users\\Kaniska Jain\\AppData\\Local\\Temp\\ipykernel_32048\\2031986513.py:1: DeprecationWarning: Please use `ttest_ind` from the `scipy.stats` namespace, the `scipy.stats.stats` namespace is deprecated.\n",
      "  stats.ttest_ind(male_claims,female_claims)\n"
     ]
    },
    {
     "data": {
      "text/plain": [
       "TtestResult(statistic=0.8848703612768548, pvalue=0.3764242430541366, df=1076.0)"
      ]
     },
     "execution_count": 42,
     "metadata": {},
     "output_type": "execute_result"
    }
   ],
   "source": [
    "stats.ttest_ind(male_claims,female_claims)"
   ]
  },
  {
   "cell_type": "markdown",
   "id": "406710d8",
   "metadata": {},
   "source": [
    "    The t-value measures the difference in means in terms of standard deviations. In this case, the positive t-value indicates that the average claim amount for males is higher than females, but the magnitude is not very large."
   ]
  },
  {
   "cell_type": "markdown",
   "id": "fa577419",
   "metadata": {},
   "source": [
    "    since the p value is greater than the significance level choosen, There is insufficient evidence to conclude that there is a statistically significant difference in the mean amount claimed by males and females. So we reject the Alternate Hypothesis "
   ]
  },
  {
   "cell_type": "markdown",
   "id": "8e8db494",
   "metadata": {},
   "source": [
    "#### 17. Is there any relationship between age category and segment?"
   ]
  },
  {
   "cell_type": "markdown",
   "id": "c7b37ef4",
   "metadata": {},
   "source": [
    "    Null Hypothesis (H0) : There is no relationship between the categories \n",
    "    \n",
    "    Alternate Hypothesis (Ha) : There is some relationship between the categorical \n",
    "    columns\n",
    "    \n",
    "    Significance Level (alpha) : 0.05"
   ]
  },
  {
   "cell_type": "raw",
   "id": "4dcc70c0",
   "metadata": {},
   "source": [
    "Since both the columns Age Group and Customer Segment are categorical in nature, we will use the CHI^2 test "
   ]
  },
  {
   "cell_type": "code",
   "execution_count": 43,
   "id": "3f291528",
   "metadata": {},
   "outputs": [],
   "source": [
    "from scipy.stats import chi2_contingency"
   ]
  },
  {
   "cell_type": "code",
   "execution_count": 44,
   "id": "fa9b7429",
   "metadata": {},
   "outputs": [
    {
     "data": {
      "text/html": [
       "<div>\n",
       "<style scoped>\n",
       "    .dataframe tbody tr th:only-of-type {\n",
       "        vertical-align: middle;\n",
       "    }\n",
       "\n",
       "    .dataframe tbody tr th {\n",
       "        vertical-align: top;\n",
       "    }\n",
       "\n",
       "    .dataframe thead th {\n",
       "        text-align: right;\n",
       "    }\n",
       "</style>\n",
       "<table border=\"1\" class=\"dataframe\">\n",
       "  <thead>\n",
       "    <tr style=\"text-align: right;\">\n",
       "      <th></th>\n",
       "      <th>Segment</th>\n",
       "      <th>Age_Group</th>\n",
       "    </tr>\n",
       "  </thead>\n",
       "  <tbody>\n",
       "    <tr>\n",
       "      <th>0</th>\n",
       "      <td>Platinum</td>\n",
       "      <td>Adult</td>\n",
       "    </tr>\n",
       "    <tr>\n",
       "      <th>1</th>\n",
       "      <td>Silver</td>\n",
       "      <td>Adult</td>\n",
       "    </tr>\n",
       "    <tr>\n",
       "      <th>2</th>\n",
       "      <td>Silver</td>\n",
       "      <td>Adult</td>\n",
       "    </tr>\n",
       "    <tr>\n",
       "      <th>3</th>\n",
       "      <td>Silver</td>\n",
       "      <td>Adult</td>\n",
       "    </tr>\n",
       "    <tr>\n",
       "      <th>4</th>\n",
       "      <td>Gold</td>\n",
       "      <td>Adult</td>\n",
       "    </tr>\n",
       "    <tr>\n",
       "      <th>...</th>\n",
       "      <td>...</td>\n",
       "      <td>...</td>\n",
       "    </tr>\n",
       "    <tr>\n",
       "      <th>1073</th>\n",
       "      <td>Platinum</td>\n",
       "      <td>Adult</td>\n",
       "    </tr>\n",
       "    <tr>\n",
       "      <th>1074</th>\n",
       "      <td>Silver</td>\n",
       "      <td>Youth</td>\n",
       "    </tr>\n",
       "    <tr>\n",
       "      <th>1075</th>\n",
       "      <td>Gold</td>\n",
       "      <td>Adult</td>\n",
       "    </tr>\n",
       "    <tr>\n",
       "      <th>1076</th>\n",
       "      <td>Silver</td>\n",
       "      <td>Adult</td>\n",
       "    </tr>\n",
       "    <tr>\n",
       "      <th>1077</th>\n",
       "      <td>Gold</td>\n",
       "      <td>Youth</td>\n",
       "    </tr>\n",
       "  </tbody>\n",
       "</table>\n",
       "<p>1078 rows × 2 columns</p>\n",
       "</div>"
      ],
      "text/plain": [
       "       Segment Age_Group\n",
       "0     Platinum     Adult\n",
       "1       Silver     Adult\n",
       "2       Silver     Adult\n",
       "3       Silver     Adult\n",
       "4         Gold     Adult\n",
       "...        ...       ...\n",
       "1073  Platinum     Adult\n",
       "1074    Silver     Youth\n",
       "1075      Gold     Adult\n",
       "1076    Silver     Adult\n",
       "1077      Gold     Youth\n",
       "\n",
       "[1078 rows x 2 columns]"
      ]
     },
     "execution_count": 44,
     "metadata": {},
     "output_type": "execute_result"
    }
   ],
   "source": [
    "age_segment = cust_claims[['Segment','Age_Group']]\n",
    "age_segment"
   ]
  },
  {
   "cell_type": "code",
   "execution_count": 45,
   "id": "14993bf0",
   "metadata": {},
   "outputs": [
    {
     "data": {
      "text/html": [
       "<div>\n",
       "<style scoped>\n",
       "    .dataframe tbody tr th:only-of-type {\n",
       "        vertical-align: middle;\n",
       "    }\n",
       "\n",
       "    .dataframe tbody tr th {\n",
       "        vertical-align: top;\n",
       "    }\n",
       "\n",
       "    .dataframe thead th {\n",
       "        text-align: right;\n",
       "    }\n",
       "</style>\n",
       "<table border=\"1\" class=\"dataframe\">\n",
       "  <thead>\n",
       "    <tr style=\"text-align: right;\">\n",
       "      <th>Age_Group</th>\n",
       "      <th>Youth</th>\n",
       "      <th>Adult</th>\n",
       "      <th>Senior</th>\n",
       "    </tr>\n",
       "    <tr>\n",
       "      <th>Segment</th>\n",
       "      <th></th>\n",
       "      <th></th>\n",
       "      <th></th>\n",
       "    </tr>\n",
       "  </thead>\n",
       "  <tbody>\n",
       "    <tr>\n",
       "      <th>Gold</th>\n",
       "      <td>69</td>\n",
       "      <td>273</td>\n",
       "      <td>29</td>\n",
       "    </tr>\n",
       "    <tr>\n",
       "      <th>Platinum</th>\n",
       "      <td>69</td>\n",
       "      <td>266</td>\n",
       "      <td>26</td>\n",
       "    </tr>\n",
       "    <tr>\n",
       "      <th>Silver</th>\n",
       "      <td>66</td>\n",
       "      <td>259</td>\n",
       "      <td>21</td>\n",
       "    </tr>\n",
       "  </tbody>\n",
       "</table>\n",
       "</div>"
      ],
      "text/plain": [
       "Age_Group  Youth  Adult  Senior\n",
       "Segment                        \n",
       "Gold          69    273      29\n",
       "Platinum      69    266      26\n",
       "Silver        66    259      21"
      ]
     },
     "execution_count": 45,
     "metadata": {},
     "output_type": "execute_result"
    }
   ],
   "source": [
    "data = pd.crosstab(index=age_segment['Segment'],columns=age_segment['Age_Group'])\n",
    "data"
   ]
  },
  {
   "cell_type": "code",
   "execution_count": 46,
   "id": "bb556c9a",
   "metadata": {},
   "outputs": [
    {
     "data": {
      "text/plain": [
       "Chi2ContingencyResult(statistic=0.8725867572764416, pvalue=0.9284603278838651, dof=4, expected_freq=array([[ 70.20779221, 274.63636364,  26.15584416],\n",
       "       [ 68.31539889, 267.23376623,  25.45083488],\n",
       "       [ 65.47680891, 256.12987013,  24.39332096]]))"
      ]
     },
     "execution_count": 46,
     "metadata": {},
     "output_type": "execute_result"
    }
   ],
   "source": [
    "chi2_contingency(data)"
   ]
  },
  {
   "cell_type": "markdown",
   "id": "cfa3da8c",
   "metadata": {},
   "source": [
    "    The chi-square statistic measures the association between 'Age Category' and \n",
    "    'Segment'.In this case, the calculated chi-square statistic is approximately 0.879\n",
    "    \n",
    "    The p-value is approximately 0.928. This is greater than the chosen significance \n",
    "    level (0.05)\n",
    "    \n",
    "    Degrees of Freedom = (Number of Age categories -1)*(Number of Segment Categories -1) = 4\n"
   ]
  },
  {
   "cell_type": "markdown",
   "id": "cafc3fac",
   "metadata": {},
   "source": [
    "                                        Conclusions\n",
    "    Since the p-value (0.928) is greater than the significance level (0.05), we fail to \n",
    "    reject the null hypothesis. We then can rejecet the Alternate Hypothesis that there is some relation btw the categorical columns age category and segment.                                        \n",
    "                                       "
   ]
  },
  {
   "cell_type": "markdown",
   "id": "a52af9be",
   "metadata": {},
   "source": [
    "#### 18. The current year has shown a significant rise in claim amounts as compared to 2016-17 fiscal average which was $10,000."
   ]
  },
  {
   "cell_type": "markdown",
   "id": "195a9a8b",
   "metadata": {},
   "source": [
    "    Null Hypothesis(H0): There is no significant rise in claim amounts as compared to the previous year\n",
    "    Alternate Hypothesis(Ha): There is significant rise in claim amounts as compared to  the previous year\n",
    "    Significance Level(alpha): 0.05"
   ]
  },
  {
   "cell_type": "code",
   "execution_count": 47,
   "id": "4e9de63c",
   "metadata": {},
   "outputs": [
    {
     "data": {
      "text/plain": [
       "12470.498519249753"
      ]
     },
     "execution_count": 47,
     "metadata": {},
     "output_type": "execute_result"
    }
   ],
   "source": [
    "cust_claims.claim_amount.mean()"
   ]
  },
  {
   "cell_type": "code",
   "execution_count": 48,
   "id": "af18c9a6",
   "metadata": {},
   "outputs": [],
   "source": [
    "from scipy.stats import stats"
   ]
  },
  {
   "cell_type": "code",
   "execution_count": 49,
   "id": "55b14294",
   "metadata": {},
   "outputs": [
    {
     "name": "stderr",
     "output_type": "stream",
     "text": [
      "C:\\Users\\Kaniska Jain\\AppData\\Local\\Temp\\ipykernel_32048\\2633340357.py:1: DeprecationWarning: Please use `ttest_1samp` from the `scipy.stats` namespace, the `scipy.stats.stats` namespace is deprecated.\n",
      "  stats.ttest_1samp(cust_claims.claim_amount,10000)\n"
     ]
    },
    {
     "data": {
      "text/plain": [
       "TtestResult(statistic=6.068796577191385, pvalue=1.7827316562159517e-09, df=1077)"
      ]
     },
     "execution_count": 49,
     "metadata": {},
     "output_type": "execute_result"
    }
   ],
   "source": [
    "stats.ttest_1samp(cust_claims.claim_amount,10000)"
   ]
  },
  {
   "cell_type": "markdown",
   "id": "31e9761d",
   "metadata": {},
   "source": [
    "\n",
    "    The t-statistic is approximately 6.07. This value represents the number of standard  errors the sample mean is from the hypothesized population mean ($10,000) under the   null hypothesis.\n",
    "    \n",
    "    The p-value associated with the t-statistic is approximately 1.78e-09 (or approximately 0.00000000178). This p-value is extremely small, much smaller than commonly used significance levels like 0.05 or 0.01. It indicates the probability of observing the data (or something more extreme) if the null hypothesis were true. Since this p-value is significantly smaller than any reasonable significance level, we reject the null hypothesis.\n",
    "    \n",
    "    "
   ]
  },
  {
   "cell_type": "markdown",
   "id": "3c650d07",
   "metadata": {},
   "source": [
    "#### 19. Is there any difference between age groups and insurance claims?"
   ]
  },
  {
   "cell_type": "markdown",
   "id": "55247d3b",
   "metadata": {},
   "source": [
    "    Null Hypthesis(H0): There is no difference between the age groups and the insurance  claims\n",
    "    \n",
    "    Alternate Hypothesis(Ha): There is some difference between the age groups and claims\n",
    "    \n",
    "    Significance Level(alpha): 0.05"
   ]
  },
  {
   "cell_type": "code",
   "execution_count": 50,
   "id": "fd44f6fd",
   "metadata": {},
   "outputs": [
    {
     "name": "stderr",
     "output_type": "stream",
     "text": [
      "C:\\Users\\Kaniska Jain\\AppData\\Local\\Temp\\ipykernel_32048\\3578725.py:1: FutureWarning: The default of observed=False is deprecated and will be changed to True in a future version of pandas. Pass observed=False to retain current behavior or observed=True to adopt the future default and silence this warning.\n",
      "  cust_claims.groupby('Age_Group')['claim_amount'].mean()\n"
     ]
    },
    {
     "data": {
      "text/plain": [
       "Age_Group\n",
       "Child              NaN\n",
       "Youth     11808.151845\n",
       "Adult     12652.818846\n",
       "Senior    12334.013002\n",
       "Name: claim_amount, dtype: float64"
      ]
     },
     "execution_count": 50,
     "metadata": {},
     "output_type": "execute_result"
    }
   ],
   "source": [
    "cust_claims.groupby('Age_Group')['claim_amount'].mean()"
   ]
  },
  {
   "cell_type": "code",
   "execution_count": 51,
   "id": "3ca6b697",
   "metadata": {},
   "outputs": [
    {
     "data": {
      "text/plain": [
       "6      1730.000000\n",
       "7      1160.000000\n",
       "8      2620.000000\n",
       "11    16690.000000\n",
       "22    12470.498519\n",
       "Name: claim_amount, dtype: float64"
      ]
     },
     "execution_count": 51,
     "metadata": {},
     "output_type": "execute_result"
    }
   ],
   "source": [
    "youth = cust_claims[cust_claims.Age_Group == 'Youth'].loc[:,'claim_amount']\n",
    "adult = cust_claims[cust_claims.Age_Group == 'Adult'].loc[:,'claim_amount']\n",
    "senior = cust_claims[cust_claims.Age_Group == 'Senior'].loc[:,'claim_amount']\n",
    "youth.head()"
   ]
  },
  {
   "cell_type": "code",
   "execution_count": 52,
   "id": "4246107d",
   "metadata": {},
   "outputs": [
    {
     "data": {
      "text/plain": [
       "0    2980.0\n",
       "1    2980.0\n",
       "2    3369.5\n",
       "3    1680.0\n",
       "4    2680.0\n",
       "Name: claim_amount, dtype: float64"
      ]
     },
     "execution_count": 52,
     "metadata": {},
     "output_type": "execute_result"
    }
   ],
   "source": [
    "adult.head()"
   ]
  },
  {
   "cell_type": "code",
   "execution_count": 53,
   "id": "08d3bdbf",
   "metadata": {},
   "outputs": [
    {
     "data": {
      "text/plain": [
       "28     1210.000000\n",
       "65    33190.000000\n",
       "67    25830.000000\n",
       "91    12470.498519\n",
       "95     2220.000000\n",
       "Name: claim_amount, dtype: float64"
      ]
     },
     "execution_count": 53,
     "metadata": {},
     "output_type": "execute_result"
    }
   ],
   "source": [
    "senior.head()"
   ]
  },
  {
   "cell_type": "code",
   "execution_count": 54,
   "id": "c9eca036",
   "metadata": {},
   "outputs": [
    {
     "name": "stderr",
     "output_type": "stream",
     "text": [
      "C:\\Users\\Kaniska Jain\\AppData\\Local\\Temp\\ipykernel_32048\\109542991.py:1: DeprecationWarning: Please use `f_oneway` from the `scipy.stats` namespace, the `scipy.stats.stats` namespace is deprecated.\n",
      "  stats.f_oneway(youth,adult,senior)\n"
     ]
    },
    {
     "data": {
      "text/plain": [
       "F_onewayResult(statistic=0.3282850252812144, pvalue=0.7202298988820373)"
      ]
     },
     "execution_count": 54,
     "metadata": {},
     "output_type": "execute_result"
    }
   ],
   "source": [
    "stats.f_oneway(youth,adult,senior)"
   ]
  },
  {
   "cell_type": "markdown",
   "id": "75b4b3cc",
   "metadata": {},
   "source": [
    "    Results\n",
    "\n",
    "\n",
    "The F-statistic, which is approximately 0.328, measures the ratio of the variance between groups to the variance within groups. It essentially tells us whether the variance in the means of the age groups is significantly different from what we would expect due to random chance alone.\n",
    "\n",
    "P-value: The p-value associated with the F-statistic is approximately 0.720. This p-value represents the probability of observing the data (or something more extreme) if the null hypothesis were true. \n",
    "\n",
    "We therefore can reject the Alternate Hypothesis that there is some differnce between age groups and claim amounts"
   ]
  },
  {
   "cell_type": "markdown",
   "id": "7f4a4c5c",
   "metadata": {},
   "source": [
    "#### 20. Is there any relationship between total number of policy claims and the claimed amount"
   ]
  },
  {
   "cell_type": "code",
   "execution_count": 55,
   "id": "8a5e376e",
   "metadata": {},
   "outputs": [
    {
     "data": {
      "text/plain": [
       "array([1.      , 3.      , 4.      , 2.      , 1.582397, 5.      ,\n",
       "       7.      , 6.      , 8.      ])"
      ]
     },
     "execution_count": 55,
     "metadata": {},
     "output_type": "execute_result"
    }
   ],
   "source": [
    "cust_claims.total_policy_claims.unique()"
   ]
  },
  {
   "cell_type": "markdown",
   "id": "428cb4f7",
   "metadata": {},
   "source": [
    "    Null Hypothesis(H0): There is no relation between the total policy claims and the amount claimed\n",
    "    \n",
    "    Alternate Hypothesis(Ha): There is a relation between the total policy claims and the amount claimed \n",
    "    \n",
    "    Significance Level (alpha): 0.05"
   ]
  },
  {
   "cell_type": "code",
   "execution_count": 56,
   "id": "769dc132",
   "metadata": {},
   "outputs": [
    {
     "name": "stderr",
     "output_type": "stream",
     "text": [
      "C:\\Users\\Kaniska Jain\\AppData\\Local\\Temp\\ipykernel_32048\\3261837734.py:1: DeprecationWarning: Please use `pearsonr` from the `scipy.stats` namespace, the `scipy.stats.stats` namespace is deprecated.\n",
      "  stats.pearsonr(cust_claims.total_policy_claims,cust_claims.claim_amount)\n"
     ]
    },
    {
     "data": {
      "text/plain": [
       "PearsonRResult(statistic=-0.014291136186627364, pvalue=0.6392846937923059)"
      ]
     },
     "execution_count": 56,
     "metadata": {},
     "output_type": "execute_result"
    }
   ],
   "source": [
    "stats.pearsonr(cust_claims.total_policy_claims,cust_claims.claim_amount)"
   ]
  },
  {
   "cell_type": "markdown",
   "id": "f857e4fa",
   "metadata": {},
   "source": [
    "  ***Result and Conclusion***\n",
    "\n",
    " The Pearson correlation coefficient is approximately -0.014, indicating the degree and direction of the linear association between the two variables. With a correlation coefficient close to zero, it suggests a minimal linear relationship between the total number of policy claims and the claimed amount. Moreover, the negative sign suggests a slight negative correlation, though the magnitude is nearly negligible.\n",
    "\n",
    "The p-value corresponding to the correlation coefficient is approximately 0.639. This p-value signifies the likelihood of observing the data, or something more extreme, under the assumption that the null hypothesis holds true, implying no correlation between the variables. In this instance, the relatively high p-value suggests a failure to reject the null hypothesis.\n",
    "\n"
   ]
  },
  {
   "cell_type": "code",
   "execution_count": null,
   "id": "18a1e6d9",
   "metadata": {},
   "outputs": [],
   "source": []
  }
 ],
 "metadata": {
  "kernelspec": {
   "display_name": "Python 3 (ipykernel)",
   "language": "python",
   "name": "python3"
  },
  "language_info": {
   "codemirror_mode": {
    "name": "ipython",
    "version": 3
   },
   "file_extension": ".py",
   "mimetype": "text/x-python",
   "name": "python",
   "nbconvert_exporter": "python",
   "pygments_lexer": "ipython3",
   "version": "3.11.5"
  }
 },
 "nbformat": 4,
 "nbformat_minor": 5
}
